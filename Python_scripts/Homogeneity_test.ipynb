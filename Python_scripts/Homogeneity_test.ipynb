{
 "cells": [
  {
   "cell_type": "code",
   "execution_count": 3,
   "id": "a28a7cca-8083-472c-88c2-4724c22e0f8b",
   "metadata": {
    "execution": {
     "iopub.execute_input": "2023-10-06T07:20:21.224571Z",
     "iopub.status.busy": "2023-10-06T07:20:21.223882Z",
     "iopub.status.idle": "2023-10-06T07:20:21.230176Z",
     "shell.execute_reply": "2023-10-06T07:20:21.228913Z",
     "shell.execute_reply.started": "2023-10-06T07:20:21.224520Z"
    },
    "tags": []
   },
   "outputs": [],
   "source": [
    "#pip install pyhomogeneity"
   ]
  },
  {
   "cell_type": "code",
   "execution_count": 4,
   "id": "677b8fd7-ebd7-463a-ada4-78b7c98a954f",
   "metadata": {
    "execution": {
     "iopub.execute_input": "2023-10-06T07:20:25.057405Z",
     "iopub.status.busy": "2023-10-06T07:20:25.056860Z",
     "iopub.status.idle": "2023-10-06T07:20:25.063001Z",
     "shell.execute_reply": "2023-10-06T07:20:25.061751Z",
     "shell.execute_reply.started": "2023-10-06T07:20:25.057357Z"
    },
    "tags": []
   },
   "outputs": [],
   "source": [
    "#pip install outliers "
   ]
  },
  {
   "cell_type": "code",
   "execution_count": 1,
   "id": "57aba044-651f-403b-8734-6ddc677cdc3f",
   "metadata": {
    "execution": {
     "iopub.execute_input": "2023-10-06T07:32:45.712216Z",
     "iopub.status.busy": "2023-10-06T07:32:45.711983Z",
     "iopub.status.idle": "2023-10-06T07:32:46.837843Z",
     "shell.execute_reply": "2023-10-06T07:32:46.836956Z",
     "shell.execute_reply.started": "2023-10-06T07:32:45.712198Z"
    },
    "tags": []
   },
   "outputs": [],
   "source": [
    "import pandas as pd\n",
    "import numpy as np\n",
    "import seaborn as sns\n",
    "import datetime as dt\n",
    "import seaborn as sns\n",
    "#from fitter import Fitter, get_common_distributions, get_distributions\n",
    "import matplotlib.pyplot as plt\n",
    "import pyhomogeneity as hg\n",
    "#from sklearn.datasets import load_boston\n",
    "import seaborn as sns\n",
    "from matplotlib.dates import DateFormatter\n",
    "import matplotlib.dates as mdates\n",
    "from scipy.stats import shapiro\n",
    "from numpy.random import randn\n",
    "import scipy.stats as stats\n",
    "#from outliers import smirnov_grubbs as grubbs\n",
    "from __future__ import division\n",
    "import scipy.stats\n",
    "from datetime import datetime, timedelta\n",
    "import matplotlib, random\n",
    "#import plotly.figure_factory as ff\n",
    "import re\n"
   ]
  },
  {
   "cell_type": "code",
   "execution_count": 2,
   "id": "9449e8c0-a6d8-436f-95a3-70b51908c1a5",
   "metadata": {
    "execution": {
     "iopub.execute_input": "2023-10-06T07:32:48.046124Z",
     "iopub.status.busy": "2023-10-06T07:32:48.045583Z",
     "iopub.status.idle": "2023-10-06T07:32:50.489776Z",
     "shell.execute_reply": "2023-10-06T07:32:50.488870Z",
     "shell.execute_reply.started": "2023-10-06T07:32:48.046078Z"
    },
    "tags": []
   },
   "outputs": [
    {
     "name": "stderr",
     "output_type": "stream",
     "text": [
      "/tmp/ipykernel_323/1194264795.py:3: DtypeWarning: Columns (7,9,11,13,14,15) have mixed types. Specify dtype option on import or set low_memory=False.\n",
      "  df=pd.read_csv(\"df_outlier_remove.csv\")\n"
     ]
    }
   ],
   "source": [
    "#df=pd.read_csv(\"station_db.csv\")\n",
    "# New data with outlier removed\n",
    "df=pd.read_csv(\"df_outlier_remove.csv\")"
   ]
  },
  {
   "cell_type": "code",
   "execution_count": 4,
   "id": "03b4ef4c-5e2b-4b30-bfca-49bcdc518e6a",
   "metadata": {
    "execution": {
     "iopub.execute_input": "2023-10-06T07:33:15.692224Z",
     "iopub.status.busy": "2023-10-06T07:33:15.691680Z",
     "iopub.status.idle": "2023-10-06T07:33:16.008594Z",
     "shell.execute_reply": "2023-10-06T07:33:16.007298Z",
     "shell.execute_reply.started": "2023-10-06T07:33:15.692178Z"
    },
    "tags": []
   },
   "outputs": [],
   "source": [
    "df['date'] = pd.to_datetime(df['date'])"
   ]
  },
  {
   "cell_type": "code",
   "execution_count": null,
   "id": "94f02293-2943-4f03-9b82-ec9b638951d0",
   "metadata": {
    "tags": []
   },
   "outputs": [],
   "source": []
  },
  {
   "cell_type": "code",
   "execution_count": 7,
   "id": "111749ed-fe76-486b-95a0-0928cdd605d5",
   "metadata": {
    "execution": {
     "iopub.execute_input": "2023-10-06T07:25:39.598422Z",
     "iopub.status.busy": "2023-10-06T07:25:39.597834Z",
     "iopub.status.idle": "2023-10-06T07:25:39.604193Z",
     "shell.execute_reply": "2023-10-06T07:25:39.602982Z",
     "shell.execute_reply.started": "2023-10-06T07:25:39.598375Z"
    },
    "tags": []
   },
   "outputs": [],
   "source": [
    "#df1=df[(df[\"name\"]==\"KisumuAirport\") | (df[\"name\"]==\"Kisii\") | (df[\"name\"]==\"BungomaWS\") | (df[\"name\"]==\"Migori\")|  (df[\"name\"]==\"TinderetTea\")]\n",
    "#df1['date'] = pd.to_datetime(df1['date'])\n",
    "#df1=df1.sort_values(by=\"date\")\n",
    "#df1=df1[df1[\"date\"]<=\"1950-12-31\"]\n",
    "#df1=df1[(df1[\"date\"]>\"1950-12-31\") & (df1[\"date\"]<=\"1951-12-31\")]\n",
    "#dG=df1.groupby(pd.PeriodIndex(df1['date'], freq=\"M\"))[\"prec\"].mean().reset_index()"
   ]
  },
  {
   "cell_type": "code",
   "execution_count": 34,
   "id": "96527cfd-54ee-41d2-bb1b-4a93b28426c8",
   "metadata": {
    "execution": {
     "iopub.execute_input": "2023-10-06T07:57:55.364347Z",
     "iopub.status.busy": "2023-10-06T07:57:55.363813Z",
     "iopub.status.idle": "2023-10-06T07:57:55.519651Z",
     "shell.execute_reply": "2023-10-06T07:57:55.518323Z",
     "shell.execute_reply.started": "2023-10-06T07:57:55.364303Z"
    },
    "tags": []
   },
   "outputs": [],
   "source": [
    "df1=df[df[\"Region\"]==\"South Region\"]"
   ]
  },
  {
   "cell_type": "code",
   "execution_count": 24,
   "id": "e259b9ff-7d6c-4409-af26-b7e6fbc134ec",
   "metadata": {
    "execution": {
     "iopub.execute_input": "2023-10-06T07:47:44.256323Z",
     "iopub.status.busy": "2023-10-06T07:47:44.255789Z",
     "iopub.status.idle": "2023-10-06T07:47:44.319593Z",
     "shell.execute_reply": "2023-10-06T07:47:44.318402Z",
     "shell.execute_reply.started": "2023-10-06T07:47:44.256278Z"
    },
    "tags": []
   },
   "outputs": [],
   "source": [
    "\n",
    "dG=df1.groupby(pd.PeriodIndex(df1['date'], freq=\"M\"))[\"prec\"].mean().reset_index()"
   ]
  },
  {
   "cell_type": "code",
   "execution_count": 12,
   "id": "00b515d8-2172-43f2-829f-a63c82a1fbf3",
   "metadata": {
    "execution": {
     "iopub.execute_input": "2023-10-06T07:30:18.698480Z",
     "iopub.status.busy": "2023-10-06T07:30:18.697879Z",
     "iopub.status.idle": "2023-10-06T07:30:28.857282Z",
     "shell.execute_reply": "2023-10-06T07:30:28.853693Z",
     "shell.execute_reply.started": "2023-10-06T07:30:18.698433Z"
    },
    "tags": []
   },
   "outputs": [],
   "source": [
    "snht_test=hg.snht_test(dG[\"prec\"],0.05)\n",
    "pettitt_test= hg.pettitt_test(dG[\"prec\"],0.05)\n",
    "buishand_Q_test= hg.buishand_q_test(dG[\"prec\"],0.05)"
   ]
  },
  {
   "cell_type": "code",
   "execution_count": 31,
   "id": "d5138a9c-7534-4142-8475-2c133cecc3c5",
   "metadata": {
    "execution": {
     "iopub.execute_input": "2023-09-25T10:16:20.039148Z",
     "iopub.status.busy": "2023-09-25T10:16:20.038618Z",
     "iopub.status.idle": "2023-09-25T10:16:20.650314Z",
     "shell.execute_reply": "2023-09-25T10:16:20.649362Z",
     "shell.execute_reply.started": "2023-09-25T10:16:20.039102Z"
    },
    "tags": []
   },
   "outputs": [
    {
     "data": {
      "image/png": "[encoded data removed]",
      "text/plain": [
       "<Figure size 800x600 with 4 Axes>"
      ]
     },
     "metadata": {},
     "output_type": "display_data"
    }
   ],
   "source": [
    "def homogeneity_test(var,data):\n",
    "    \n",
    "    lists=[pettitt_test, snht_test, buishand_Q_test]\n",
    "    plt.ﬁgure(ﬁgsize=(8,6))\n",
    "    plt.subplot(2,2,1)\n",
    "    plt.title(\"Pettitt test(KisumuAirport)\")\n",
    "    plt.ylabel(\"montly mean precipitation\")\n",
    "    plt.subplot(2,2,2)\n",
    "    plt.title(\"SNH test (KisumuAirport)\")\n",
    "    plt.subplot(2,2,3)\n",
    "    plt.title(\"Bruinshand test (KisumuAirport)\")\n",
    "    plt.ylabel(\"montly mean precipitation\")\n",
    "    plt.subplot(2,2,4)\n",
    "    #plt.title(\"BuishandLikelihood ratio test (IAR ZARIA_Nigeria)\")\n",
    "    for i in range(0,3):\n",
    "        mn = 0\n",
    "        #x=data.index\n",
    "        mx = len(data)\n",
    "        loc = lists[i].cp\n",
    "        mu1 = lists[i].avg.mu1\n",
    "        mu2 = lists[i].avg.mu2\n",
    "        #my_xticks=data[\"date\"]\n",
    "        #plt.xticks(rotation=90)\n",
    "        plt.subplot(2,2,i+1)\n",
    "        #plt.xticks(x, my_xticks)\n",
    "        plt.plot(data[var], label=\"Observation\")\n",
    "        plt.hlines(mu1, xmin=mn, xmax=loc, linestyles=\"--\", colors='orange',lw=1.5, label='mu1 : ' + str(round(mu1,2)))\n",
    "        plt.hlines(mu2, xmin=loc, xmax=mx, linestyles=\"--\", colors='g', lw=1.5, label='mu2 : ' + str(round(mu2,2)))\n",
    "        plt.axvline(x=loc, linestyle='-.' , color='red', lw=1.5, label='Change point : '+ str(loc) + '\\n p-value : '+ str(lists[i].p))\n",
    "        #plt.title(f\": {lists[i]}\")\n",
    "        plt.xlabel(\"X\")\n",
    "        plt.legend(loc=\"upper right\")\n",
    "        \n",
    "homogeneity_test(\"prec\",dG)"
   ]
  },
  {
   "cell_type": "code",
   "execution_count": 32,
   "id": "29e2a82c-6bc2-4888-a949-e08bd3df9598",
   "metadata": {
    "execution": {
     "iopub.execute_input": "2023-09-25T10:17:58.373316Z",
     "iopub.status.busy": "2023-09-25T10:17:58.372778Z",
     "iopub.status.idle": "2023-09-25T10:17:58.381902Z",
     "shell.execute_reply": "2023-09-25T10:17:58.380768Z",
     "shell.execute_reply.started": "2023-09-25T10:17:58.373272Z"
    },
    "tags": []
   },
   "outputs": [
    {
     "data": {
      "text/plain": [
       "Period('1950-06', 'M')"
      ]
     },
     "execution_count": 32,
     "metadata": {},
     "output_type": "execute_result"
    }
   ],
   "source": [
    "dG[\"date\"][5]"
   ]
  },
  {
   "cell_type": "code",
   "execution_count": 25,
   "id": "af3ea8c5-fa75-4705-a888-44a8cee66ca7",
   "metadata": {
    "execution": {
     "iopub.execute_input": "2023-09-25T09:31:35.737308Z",
     "iopub.status.busy": "2023-09-25T09:31:35.736757Z",
     "iopub.status.idle": "2023-09-25T09:31:35.745863Z",
     "shell.execute_reply": "2023-09-25T09:31:35.744850Z",
     "shell.execute_reply.started": "2023-09-25T09:31:35.737263Z"
    },
    "tags": []
   },
   "outputs": [
    {
     "data": {
      "text/plain": [
       "Period('1952-06', 'M')"
      ]
     },
     "execution_count": 25,
     "metadata": {},
     "output_type": "execute_result"
    }
   ],
   "source": [
    "dG[\"date\"][29]"
   ]
  },
  {
   "cell_type": "code",
   "execution_count": 28,
   "id": "a31a5a6c-eb04-4a5e-8b4c-3b97a6073d28",
   "metadata": {
    "execution": {
     "iopub.execute_input": "2023-09-25T10:15:26.361433Z",
     "iopub.status.busy": "2023-09-25T10:15:26.360882Z",
     "iopub.status.idle": "2023-09-25T10:15:26.387604Z",
     "shell.execute_reply": "2023-09-25T10:15:26.386728Z",
     "shell.execute_reply.started": "2023-09-25T10:15:26.361386Z"
    },
    "tags": []
   },
   "outputs": [
    {
     "data": {
      "text/html": [
       "<div>\n",
       "<style scoped>\n",
       "    .dataframe tbody tr th:only-of-type {\n",
       "        vertical-align: middle;\n",
       "    }\n",
       "\n",
       "    .dataframe tbody tr th {\n",
       "        vertical-align: top;\n",
       "    }\n",
       "\n",
       "    .dataframe thead th {\n",
       "        text-align: right;\n",
       "    }\n",
       "</style>\n",
       "<table border=\"1\" class=\"dataframe\">\n",
       "  <thead>\n",
       "    <tr style=\"text-align: right;\">\n",
       "      <th></th>\n",
       "      <th>date</th>\n",
       "      <th>X</th>\n",
       "      <th>Y</th>\n",
       "      <th>name</th>\n",
       "      <th>prec</th>\n",
       "      <th>prec_units</th>\n",
       "      <th>wind</th>\n",
       "      <th>wind_units</th>\n",
       "      <th>srad</th>\n",
       "      <th>srad_units</th>\n",
       "      <th>tmax</th>\n",
       "      <th>tmax_units</th>\n",
       "      <th>tmin</th>\n",
       "      <th>tmin_units</th>\n",
       "    </tr>\n",
       "  </thead>\n",
       "  <tbody>\n",
       "    <tr>\n",
       "      <th>633926</th>\n",
       "      <td>1950-01-01</td>\n",
       "      <td>34.58</td>\n",
       "      <td>-0.1</td>\n",
       "      <td>KisumuAirport</td>\n",
       "      <td>0.0</td>\n",
       "      <td>mm</td>\n",
       "      <td>NaN</td>\n",
       "      <td>m/s</td>\n",
       "      <td>NaN</td>\n",
       "      <td>MJ/m²/day</td>\n",
       "      <td>NaN</td>\n",
       "      <td>°C</td>\n",
       "      <td>NaN</td>\n",
       "      <td>°C</td>\n",
       "    </tr>\n",
       "    <tr>\n",
       "      <th>633927</th>\n",
       "      <td>1950-01-02</td>\n",
       "      <td>34.58</td>\n",
       "      <td>-0.1</td>\n",
       "      <td>KisumuAirport</td>\n",
       "      <td>0.5</td>\n",
       "      <td>mm</td>\n",
       "      <td>NaN</td>\n",
       "      <td>m/s</td>\n",
       "      <td>NaN</td>\n",
       "      <td>MJ/m²/day</td>\n",
       "      <td>NaN</td>\n",
       "      <td>°C</td>\n",
       "      <td>NaN</td>\n",
       "      <td>°C</td>\n",
       "    </tr>\n",
       "    <tr>\n",
       "      <th>633928</th>\n",
       "      <td>1950-01-03</td>\n",
       "      <td>34.58</td>\n",
       "      <td>-0.1</td>\n",
       "      <td>KisumuAirport</td>\n",
       "      <td>0.0</td>\n",
       "      <td>mm</td>\n",
       "      <td>NaN</td>\n",
       "      <td>m/s</td>\n",
       "      <td>NaN</td>\n",
       "      <td>MJ/m²/day</td>\n",
       "      <td>NaN</td>\n",
       "      <td>°C</td>\n",
       "      <td>NaN</td>\n",
       "      <td>°C</td>\n",
       "    </tr>\n",
       "    <tr>\n",
       "      <th>633929</th>\n",
       "      <td>1950-01-04</td>\n",
       "      <td>34.58</td>\n",
       "      <td>-0.1</td>\n",
       "      <td>KisumuAirport</td>\n",
       "      <td>0.0</td>\n",
       "      <td>mm</td>\n",
       "      <td>NaN</td>\n",
       "      <td>m/s</td>\n",
       "      <td>NaN</td>\n",
       "      <td>MJ/m²/day</td>\n",
       "      <td>NaN</td>\n",
       "      <td>°C</td>\n",
       "      <td>NaN</td>\n",
       "      <td>°C</td>\n",
       "    </tr>\n",
       "    <tr>\n",
       "      <th>633930</th>\n",
       "      <td>1950-01-05</td>\n",
       "      <td>34.58</td>\n",
       "      <td>-0.1</td>\n",
       "      <td>KisumuAirport</td>\n",
       "      <td>0.3</td>\n",
       "      <td>mm</td>\n",
       "      <td>NaN</td>\n",
       "      <td>m/s</td>\n",
       "      <td>NaN</td>\n",
       "      <td>MJ/m²/day</td>\n",
       "      <td>NaN</td>\n",
       "      <td>°C</td>\n",
       "      <td>NaN</td>\n",
       "      <td>°C</td>\n",
       "    </tr>\n",
       "    <tr>\n",
       "      <th>...</th>\n",
       "      <td>...</td>\n",
       "      <td>...</td>\n",
       "      <td>...</td>\n",
       "      <td>...</td>\n",
       "      <td>...</td>\n",
       "      <td>...</td>\n",
       "      <td>...</td>\n",
       "      <td>...</td>\n",
       "      <td>...</td>\n",
       "      <td>...</td>\n",
       "      <td>...</td>\n",
       "      <td>...</td>\n",
       "      <td>...</td>\n",
       "      <td>...</td>\n",
       "    </tr>\n",
       "    <tr>\n",
       "      <th>634286</th>\n",
       "      <td>1950-12-27</td>\n",
       "      <td>34.58</td>\n",
       "      <td>-0.1</td>\n",
       "      <td>KisumuAirport</td>\n",
       "      <td>0.0</td>\n",
       "      <td>mm</td>\n",
       "      <td>NaN</td>\n",
       "      <td>m/s</td>\n",
       "      <td>NaN</td>\n",
       "      <td>MJ/m²/day</td>\n",
       "      <td>NaN</td>\n",
       "      <td>°C</td>\n",
       "      <td>NaN</td>\n",
       "      <td>°C</td>\n",
       "    </tr>\n",
       "    <tr>\n",
       "      <th>634287</th>\n",
       "      <td>1950-12-28</td>\n",
       "      <td>34.58</td>\n",
       "      <td>-0.1</td>\n",
       "      <td>KisumuAirport</td>\n",
       "      <td>0.0</td>\n",
       "      <td>mm</td>\n",
       "      <td>NaN</td>\n",
       "      <td>m/s</td>\n",
       "      <td>NaN</td>\n",
       "      <td>MJ/m²/day</td>\n",
       "      <td>NaN</td>\n",
       "      <td>°C</td>\n",
       "      <td>NaN</td>\n",
       "      <td>°C</td>\n",
       "    </tr>\n",
       "    <tr>\n",
       "      <th>634288</th>\n",
       "      <td>1950-12-29</td>\n",
       "      <td>34.58</td>\n",
       "      <td>-0.1</td>\n",
       "      <td>KisumuAirport</td>\n",
       "      <td>0.0</td>\n",
       "      <td>mm</td>\n",
       "      <td>NaN</td>\n",
       "      <td>m/s</td>\n",
       "      <td>NaN</td>\n",
       "      <td>MJ/m²/day</td>\n",
       "      <td>NaN</td>\n",
       "      <td>°C</td>\n",
       "      <td>NaN</td>\n",
       "      <td>°C</td>\n",
       "    </tr>\n",
       "    <tr>\n",
       "      <th>634289</th>\n",
       "      <td>1950-12-30</td>\n",
       "      <td>34.58</td>\n",
       "      <td>-0.1</td>\n",
       "      <td>KisumuAirport</td>\n",
       "      <td>0.0</td>\n",
       "      <td>mm</td>\n",
       "      <td>NaN</td>\n",
       "      <td>m/s</td>\n",
       "      <td>NaN</td>\n",
       "      <td>MJ/m²/day</td>\n",
       "      <td>NaN</td>\n",
       "      <td>°C</td>\n",
       "      <td>NaN</td>\n",
       "      <td>°C</td>\n",
       "    </tr>\n",
       "    <tr>\n",
       "      <th>634290</th>\n",
       "      <td>1950-12-31</td>\n",
       "      <td>34.58</td>\n",
       "      <td>-0.1</td>\n",
       "      <td>KisumuAirport</td>\n",
       "      <td>0.0</td>\n",
       "      <td>mm</td>\n",
       "      <td>NaN</td>\n",
       "      <td>m/s</td>\n",
       "      <td>NaN</td>\n",
       "      <td>MJ/m²/day</td>\n",
       "      <td>NaN</td>\n",
       "      <td>°C</td>\n",
       "      <td>NaN</td>\n",
       "      <td>°C</td>\n",
       "    </tr>\n",
       "  </tbody>\n",
       "</table>\n",
       "<p>365 rows × 14 columns</p>\n",
       "</div>"
      ],
      "text/plain": [
       "             date      X    Y           name  prec prec_units wind wind_units  \\\n",
       "633926 1950-01-01  34.58 -0.1  KisumuAirport   0.0         mm  NaN        m/s   \n",
       "633927 1950-01-02  34.58 -0.1  KisumuAirport   0.5         mm  NaN        m/s   \n",
       "633928 1950-01-03  34.58 -0.1  KisumuAirport   0.0         mm  NaN        m/s   \n",
       "633929 1950-01-04  34.58 -0.1  KisumuAirport   0.0         mm  NaN        m/s   \n",
       "633930 1950-01-05  34.58 -0.1  KisumuAirport   0.3         mm  NaN        m/s   \n",
       "...           ...    ...  ...            ...   ...        ...  ...        ...   \n",
       "634286 1950-12-27  34.58 -0.1  KisumuAirport   0.0         mm  NaN        m/s   \n",
       "634287 1950-12-28  34.58 -0.1  KisumuAirport   0.0         mm  NaN        m/s   \n",
       "634288 1950-12-29  34.58 -0.1  KisumuAirport   0.0         mm  NaN        m/s   \n",
       "634289 1950-12-30  34.58 -0.1  KisumuAirport   0.0         mm  NaN        m/s   \n",
       "634290 1950-12-31  34.58 -0.1  KisumuAirport   0.0         mm  NaN        m/s   \n",
       "\n",
       "       srad srad_units tmax tmax_units tmin tmin_units  \n",
       "633926  NaN  MJ/m²/day  NaN         °C  NaN         °C  \n",
       "633927  NaN  MJ/m²/day  NaN         °C  NaN         °C  \n",
       "633928  NaN  MJ/m²/day  NaN         °C  NaN         °C  \n",
       "633929  NaN  MJ/m²/day  NaN         °C  NaN         °C  \n",
       "633930  NaN  MJ/m²/day  NaN         °C  NaN         °C  \n",
       "...     ...        ...  ...        ...  ...        ...  \n",
       "634286  NaN  MJ/m²/day  NaN         °C  NaN         °C  \n",
       "634287  NaN  MJ/m²/day  NaN         °C  NaN         °C  \n",
       "634288  NaN  MJ/m²/day  NaN         °C  NaN         °C  \n",
       "634289  NaN  MJ/m²/day  NaN         °C  NaN         °C  \n",
       "634290  NaN  MJ/m²/day  NaN         °C  NaN         °C  \n",
       "\n",
       "[365 rows x 14 columns]"
      ]
     },
     "execution_count": 28,
     "metadata": {},
     "output_type": "execute_result"
    }
   ],
   "source": []
  },
  {
   "cell_type": "code",
   "execution_count": 6,
   "id": "694c2623-15b7-4187-b7c1-8f037487a383",
   "metadata": {
    "execution": {
     "iopub.execute_input": "2023-10-06T07:33:27.753283Z",
     "iopub.status.busy": "2023-10-06T07:33:27.752626Z",
     "iopub.status.idle": "2023-10-06T07:33:27.765704Z",
     "shell.execute_reply": "2023-10-06T07:33:27.764364Z",
     "shell.execute_reply.started": "2023-10-06T07:33:27.753237Z"
    },
    "tags": []
   },
   "outputs": [],
   "source": [
    "def SNH_stations(var,data,alpha):\n",
    "    L,L1,L2,L3,L4=[],[],[],[],[]\n",
    "    station_name=data[\"name\"].unique()\n",
    "    for i in range(len(station_name)):\n",
    "        df=data[data[\"name\"]==station_name[i]]\n",
    "        dG=df.groupby(pd.PeriodIndex(df['date'], freq=\"Y\"))[var].mean().reset_index()\n",
    "        if len(dG)!=1:\n",
    "            snht_test= hg.snht_test(dG[var],alpha)\n",
    "            Pvalue=snht_test.p\n",
    "            decision=snht_test.h\n",
    "            year_break=snht_test.cp\n",
    "            L.append(station_name[i])\n",
    "            L1.append(Pvalue)\n",
    "            L2.append(decision)\n",
    "            L4.append(dG[\"date\"][year_break])\n",
    "        else:\n",
    "            L3.append(station_name[i])\n",
    "    dt=pd.DataFrame(L,columns=[\"Station Name\"])\n",
    "    dt[\"Pvalue\"]= L1\n",
    "    dt[\"decision\"]=L2\n",
    "    dt[\"year_break\"]=L4\n",
    "    return dt,L3"
   ]
  },
  {
   "cell_type": "code",
   "execution_count": 7,
   "id": "ee0f423b-73c4-4628-9fd4-a4fdaaf2fcb0",
   "metadata": {
    "execution": {
     "iopub.execute_input": "2023-10-06T07:33:29.157892Z",
     "iopub.status.busy": "2023-10-06T07:33:29.157347Z",
     "iopub.status.idle": "2023-10-06T07:33:29.171607Z",
     "shell.execute_reply": "2023-10-06T07:33:29.170201Z",
     "shell.execute_reply.started": "2023-10-06T07:33:29.157848Z"
    },
    "tags": []
   },
   "outputs": [],
   "source": [
    "def pettitt_T_stations(var,data,alpha):\n",
    "    L,L1,L2,L3,L4=[],[],[],[],[]\n",
    "    station_name=data[\"name\"].unique()\n",
    "    for i in range(len(station_name)):\n",
    "        df=data[data[\"name\"]==station_name[i]]\n",
    "        dG=df.groupby(pd.PeriodIndex(df['date'], freq=\"Y\"))[var].mean().reset_index()\n",
    "        if len(dG)!=1:\n",
    "            pettit= hg.pettitt_test(dG[var],alpha)\n",
    "            Pvalue=pettit.p\n",
    "            decision=pettit.h\n",
    "            year_break=pettit.cp\n",
    "            L.append(station_name[i])\n",
    "            L1.append(Pvalue)\n",
    "            L2.append(decision)\n",
    "            L4.append(dG[\"date\"][year_break])\n",
    "        else:\n",
    "            L3.append(station_name[i])\n",
    "    dt=pd.DataFrame(L,columns=[\"Station Name\"])\n",
    "    dt[\"Pvalue\"]= L1\n",
    "    dt[\"decision\"]=L2\n",
    "    dt[\"year_break\"]=L4\n",
    "    return dt,L3"
   ]
  },
  {
   "cell_type": "code",
   "execution_count": 8,
   "id": "14ebbb98-43d2-4330-b8c0-69b5da9bad4c",
   "metadata": {
    "execution": {
     "iopub.execute_input": "2023-10-06T07:33:30.304503Z",
     "iopub.status.busy": "2023-10-06T07:33:30.303842Z",
     "iopub.status.idle": "2023-10-06T07:33:30.317706Z",
     "shell.execute_reply": "2023-10-06T07:33:30.316072Z",
     "shell.execute_reply.started": "2023-10-06T07:33:30.304457Z"
    },
    "tags": []
   },
   "outputs": [],
   "source": [
    "def buishand_Q_T_stations(var,data,alpha):\n",
    "    L,L1,L2,L3,L4=[],[],[],[],[]\n",
    "    station_name=data[\"name\"].unique()\n",
    "    for i in range(len(station_name)):\n",
    "        df=data[data[\"name\"]==station_name[i]]\n",
    "        dG=df.groupby(pd.PeriodIndex(df['date'], freq=\"Y\"))[var].mean().reset_index()\n",
    "        if len(dG)!=1:\n",
    "            buishand_test= hg.buishand_q_test(dG[var],alpha)\n",
    "            Pvalue=buishand_test.p\n",
    "            decision=buishand_test.h\n",
    "            year_break=buishand_test.cp\n",
    "            L.append(station_name[i])\n",
    "            L1.append(Pvalue)\n",
    "            L2.append(decision)\n",
    "            L4.append(dG[\"date\"][year_break])\n",
    "        else:\n",
    "            L3.append(station_name[i])\n",
    "    dt=pd.DataFrame(L,columns=[\"Station Name\"])\n",
    "    dt[\"Pvalue\"]= L1\n",
    "    dt[\"decision\"]=L2\n",
    "    dt[\"year_break\"]=L4\n",
    "    return dt,L3"
   ]
  },
  {
   "cell_type": "code",
   "execution_count": 35,
   "id": "e82d7cc0-b852-4348-8f2b-0dc549299755",
   "metadata": {
    "execution": {
     "iopub.execute_input": "2023-10-06T07:58:05.909424Z",
     "iopub.status.busy": "2023-10-06T07:58:05.908886Z",
     "iopub.status.idle": "2023-10-06T07:59:14.710380Z",
     "shell.execute_reply": "2023-10-06T07:59:14.709016Z",
     "shell.execute_reply.started": "2023-10-06T07:58:05.909379Z"
    },
    "tags": []
   },
   "outputs": [],
   "source": [
    "dh=SNH_stations(\"prec\",df1,0.05)"
   ]
  },
  {
   "cell_type": "code",
   "execution_count": 36,
   "id": "50a72949-ce61-4b5a-ba31-ccaa81f2a31f",
   "metadata": {
    "execution": {
     "iopub.execute_input": "2023-10-06T07:59:19.971249Z",
     "iopub.status.busy": "2023-10-06T07:59:19.970590Z",
     "iopub.status.idle": "2023-10-06T08:00:26.624778Z",
     "shell.execute_reply": "2023-10-06T08:00:26.623384Z",
     "shell.execute_reply.started": "2023-10-06T07:59:19.971202Z"
    },
    "tags": []
   },
   "outputs": [],
   "source": [
    "dpt=pettitt_T_stations(\"prec\",df1,0.05)\n",
    "dpt[0].rename(columns = {\"Station Name\":'Station Name2',\"Pvalue\":'Pval_P',\"decision\":'decisionP',\"year_break\":'year_breakP'}, inplace = True)"
   ]
  },
  {
   "cell_type": "code",
   "execution_count": 37,
   "id": "9d1d1bb6-3f35-41fa-9bd0-b56345ba546f",
   "metadata": {
    "execution": {
     "iopub.execute_input": "2023-10-06T08:00:56.823988Z",
     "iopub.status.busy": "2023-10-06T08:00:56.823415Z",
     "iopub.status.idle": "2023-10-06T08:01:34.576168Z",
     "shell.execute_reply": "2023-10-06T08:01:34.574569Z",
     "shell.execute_reply.started": "2023-10-06T08:00:56.823938Z"
    },
    "tags": []
   },
   "outputs": [],
   "source": [
    "db=buishand_Q_T_stations(\"prec\",df1,0.05)\n",
    "db[0].rename(columns = {\"Station Name\":'Station Name1',\"Pvalue\":'Pval_b',\"decision\":'decisionb',\"year_break\":'year_breakb'}, inplace = True)"
   ]
  },
  {
   "cell_type": "code",
   "execution_count": 38,
   "id": "742dd4e8-960a-494e-852d-a67d13e6a570",
   "metadata": {
    "execution": {
     "iopub.execute_input": "2023-10-06T08:01:40.066734Z",
     "iopub.status.busy": "2023-10-06T08:01:40.066057Z",
     "iopub.status.idle": "2023-10-06T08:01:40.075207Z",
     "shell.execute_reply": "2023-10-06T08:01:40.074041Z",
     "shell.execute_reply.started": "2023-10-06T08:01:40.066682Z"
    },
    "tags": []
   },
   "outputs": [],
   "source": [
    "# combine the result in a sigle dataframe\n",
    "dHomT=pd.concat([dh[0],dpt[0],db[0]],axis=1)"
   ]
  },
  {
   "cell_type": "code",
   "execution_count": 39,
   "id": "3c2d2dd5-176b-43c8-9d38-400366ef3aa7",
   "metadata": {
    "execution": {
     "iopub.execute_input": "2023-10-06T08:01:41.527670Z",
     "iopub.status.busy": "2023-10-06T08:01:41.527011Z",
     "iopub.status.idle": "2023-10-06T08:01:41.537126Z",
     "shell.execute_reply": "2023-10-06T08:01:41.535441Z",
     "shell.execute_reply.started": "2023-10-06T08:01:41.527609Z"
    },
    "tags": []
   },
   "outputs": [],
   "source": [
    "dHomT=dHomT[[\"Station Name\",\"Pvalue\",\"decision\",\"year_break\",\"Pval_P\",\"decisionP\",\"year_breakP\",\"Pval_b\",\"decisionb\",\"year_breakb\"]]"
   ]
  },
  {
   "cell_type": "code",
   "execution_count": 40,
   "id": "1b23beae-b7ea-441f-bffb-47a2b2854417",
   "metadata": {
    "execution": {
     "iopub.execute_input": "2023-10-06T08:01:43.020017Z",
     "iopub.status.busy": "2023-10-06T08:01:43.019350Z",
     "iopub.status.idle": "2023-10-06T08:01:43.047863Z",
     "shell.execute_reply": "2023-10-06T08:01:43.046644Z",
     "shell.execute_reply.started": "2023-10-06T08:01:43.019965Z"
    },
    "tags": []
   },
   "outputs": [
    {
     "name": "stderr",
     "output_type": "stream",
     "text": [
      "/tmp/ipykernel_323/862552295.py:13: SettingWithCopyWarning: \n",
      "A value is trying to be set on a copy of a slice from a DataFrame\n",
      "\n",
      "See the caveats in the documentation: https://pandas.pydata.org/pandas-docs/stable/user_guide/indexing.html#returning-a-view-versus-a-copy\n",
      "  dHomT[\"class\"][j]=\"A\"\n",
      "/tmp/ipykernel_323/862552295.py:11: SettingWithCopyWarning: \n",
      "A value is trying to be set on a copy of a slice from a DataFrame\n",
      "\n",
      "See the caveats in the documentation: https://pandas.pydata.org/pandas-docs/stable/user_guide/indexing.html#returning-a-view-versus-a-copy\n",
      "  dHomT[\"class\"][j]=\"B\"\n"
     ]
    }
   ],
   "source": [
    "dHomT[\"class\"]=\"C\"\n",
    "\n",
    "for j in range(len(dHomT)):\n",
    "    count=0\n",
    "    do=[dHomT[\"decision\"][j],dHomT[\"decisionP\"][j],dHomT[\"decisionb\"][j]]\n",
    "    dd=pd.DataFrame(do,columns=[\"T\"])\n",
    "    for i in range(len(dd)):\n",
    "        if (dd[\"T\"][i]==False):\n",
    "            count=count+1\n",
    "    if (count==1):\n",
    "        dHomT[\"class\"][j]=\"B\"\n",
    "    if (count==2 or count==3):\n",
    "        dHomT[\"class\"][j]=\"A\""
   ]
  },
  {
   "cell_type": "code",
   "execution_count": 41,
   "id": "4192dfa8-d6bb-4447-bc58-32796e3f9b1f",
   "metadata": {
    "execution": {
     "iopub.execute_input": "2023-10-06T08:01:48.768696Z",
     "iopub.status.busy": "2023-10-06T08:01:48.768061Z",
     "iopub.status.idle": "2023-10-06T08:01:48.789492Z",
     "shell.execute_reply": "2023-10-06T08:01:48.788347Z",
     "shell.execute_reply.started": "2023-10-06T08:01:48.768647Z"
    },
    "tags": []
   },
   "outputs": [
    {
     "data": {
      "text/html": [
       "<div>\n",
       "<style scoped>\n",
       "    .dataframe tbody tr th:only-of-type {\n",
       "        vertical-align: middle;\n",
       "    }\n",
       "\n",
       "    .dataframe tbody tr th {\n",
       "        vertical-align: top;\n",
       "    }\n",
       "\n",
       "    .dataframe thead th {\n",
       "        text-align: right;\n",
       "    }\n",
       "</style>\n",
       "<table border=\"1\" class=\"dataframe\">\n",
       "  <thead>\n",
       "    <tr style=\"text-align: right;\">\n",
       "      <th></th>\n",
       "      <th>Station Name</th>\n",
       "      <th>Pvalue</th>\n",
       "      <th>decision</th>\n",
       "      <th>year_break</th>\n",
       "      <th>Pval_P</th>\n",
       "      <th>decisionP</th>\n",
       "      <th>year_breakP</th>\n",
       "      <th>Pval_b</th>\n",
       "      <th>decisionb</th>\n",
       "      <th>year_breakb</th>\n",
       "      <th>class</th>\n",
       "    </tr>\n",
       "  </thead>\n",
       "  <tbody>\n",
       "    <tr>\n",
       "      <th>0</th>\n",
       "      <td>Kabwe Mulungushi</td>\n",
       "      <td>0.37505</td>\n",
       "      <td>False</td>\n",
       "      <td>2020</td>\n",
       "      <td>0.33700</td>\n",
       "      <td>False</td>\n",
       "      <td>2020</td>\n",
       "      <td>0.51315</td>\n",
       "      <td>False</td>\n",
       "      <td>2020</td>\n",
       "      <td>A</td>\n",
       "    </tr>\n",
       "    <tr>\n",
       "      <th>1</th>\n",
       "      <td>Kalabo</td>\n",
       "      <td>0.82345</td>\n",
       "      <td>False</td>\n",
       "      <td>2016</td>\n",
       "      <td>0.49870</td>\n",
       "      <td>False</td>\n",
       "      <td>2016</td>\n",
       "      <td>0.92120</td>\n",
       "      <td>False</td>\n",
       "      <td>2016</td>\n",
       "      <td>A</td>\n",
       "    </tr>\n",
       "    <tr>\n",
       "      <th>2</th>\n",
       "      <td>Lusaka Int. Airport</td>\n",
       "      <td>0.90745</td>\n",
       "      <td>False</td>\n",
       "      <td>2019</td>\n",
       "      <td>0.86235</td>\n",
       "      <td>False</td>\n",
       "      <td>2017</td>\n",
       "      <td>0.84810</td>\n",
       "      <td>False</td>\n",
       "      <td>2019</td>\n",
       "      <td>A</td>\n",
       "    </tr>\n",
       "    <tr>\n",
       "      <th>3</th>\n",
       "      <td>Lusaka University of Zambia</td>\n",
       "      <td>0.02100</td>\n",
       "      <td>True</td>\n",
       "      <td>2020</td>\n",
       "      <td>0.50075</td>\n",
       "      <td>False</td>\n",
       "      <td>2020</td>\n",
       "      <td>0.24440</td>\n",
       "      <td>False</td>\n",
       "      <td>2020</td>\n",
       "      <td>A</td>\n",
       "    </tr>\n",
       "    <tr>\n",
       "      <th>4</th>\n",
       "      <td>Mwinilunga</td>\n",
       "      <td>0.97380</td>\n",
       "      <td>False</td>\n",
       "      <td>2018</td>\n",
       "      <td>0.95140</td>\n",
       "      <td>False</td>\n",
       "      <td>2018</td>\n",
       "      <td>0.91510</td>\n",
       "      <td>False</td>\n",
       "      <td>2018</td>\n",
       "      <td>A</td>\n",
       "    </tr>\n",
       "  </tbody>\n",
       "</table>\n",
       "</div>"
      ],
      "text/plain": [
       "                  Station Name   Pvalue  decision year_break   Pval_P  \\\n",
       "0             Kabwe Mulungushi  0.37505     False       2020  0.33700   \n",
       "1                       Kalabo  0.82345     False       2016  0.49870   \n",
       "2          Lusaka Int. Airport  0.90745     False       2019  0.86235   \n",
       "3  Lusaka University of Zambia  0.02100      True       2020  0.50075   \n",
       "4                   Mwinilunga  0.97380     False       2018  0.95140   \n",
       "\n",
       "   decisionP year_breakP   Pval_b  decisionb year_breakb class  \n",
       "0      False        2020  0.51315      False        2020     A  \n",
       "1      False        2016  0.92120      False        2016     A  \n",
       "2      False        2017  0.84810      False        2019     A  \n",
       "3      False        2020  0.24440      False        2020     A  \n",
       "4      False        2018  0.91510      False        2018     A  "
      ]
     },
     "execution_count": 41,
     "metadata": {},
     "output_type": "execute_result"
    }
   ],
   "source": [
    "dHomT.head()"
   ]
  },
  {
   "cell_type": "code",
   "execution_count": null,
   "id": "e725a1c4-5a2b-47c4-a67f-602cfd942b75",
   "metadata": {
    "tags": []
   },
   "outputs": [],
   "source": []
  },
  {
   "cell_type": "code",
   "execution_count": 42,
   "id": "432fc8bc-5bef-43cd-87cc-908d736345ff",
   "metadata": {
    "execution": {
     "iopub.execute_input": "2023-10-06T08:02:12.238580Z",
     "iopub.status.busy": "2023-10-06T08:02:12.237852Z",
     "iopub.status.idle": "2023-10-06T08:02:12.268740Z",
     "shell.execute_reply": "2023-10-06T08:02:12.267971Z",
     "shell.execute_reply.started": "2023-10-06T08:02:12.238525Z"
    },
    "tags": []
   },
   "outputs": [],
   "source": [
    "dHomT.to_excel(\"Homogeneity_test_South_region.xlsx\",index=False)"
   ]
  },
  {
   "cell_type": "code",
   "execution_count": 84,
   "id": "e671f5ec-2f56-4085-9398-75b74c4bb20a",
   "metadata": {
    "execution": {
     "iopub.execute_input": "2023-09-25T12:56:12.823750Z",
     "iopub.status.busy": "2023-09-25T12:56:12.823194Z",
     "iopub.status.idle": "2023-09-25T12:56:12.845534Z",
     "shell.execute_reply": "2023-09-25T12:56:12.844583Z",
     "shell.execute_reply.started": "2023-09-25T12:56:12.823703Z"
    },
    "tags": []
   },
   "outputs": [],
   "source": [
    "dHomT1.to_excel(\"Homogeneity_seasonal_test2.xlsx\")"
   ]
  },
  {
   "cell_type": "code",
   "execution_count": 85,
   "id": "cf88e794-cc80-4222-abb5-9f99e69ac848",
   "metadata": {
    "execution": {
     "iopub.execute_input": "2023-09-25T12:56:36.261483Z",
     "iopub.status.busy": "2023-09-25T12:56:36.260935Z",
     "iopub.status.idle": "2023-09-25T12:56:36.284291Z",
     "shell.execute_reply": "2023-09-25T12:56:36.283396Z",
     "shell.execute_reply.started": "2023-09-25T12:56:36.261437Z"
    },
    "tags": []
   },
   "outputs": [],
   "source": [
    "dHomT.to_excel(\"Homogeneity_seasonal_test1.xlsx\")"
   ]
  },
  {
   "cell_type": "code",
   "execution_count": 26,
   "id": "ae8108a8-6781-40d0-bae5-f9145b55f96c",
   "metadata": {
    "execution": {
     "iopub.execute_input": "2023-10-06T07:50:40.263002Z",
     "iopub.status.busy": "2023-10-06T07:50:40.262373Z",
     "iopub.status.idle": "2023-10-06T07:50:40.277681Z",
     "shell.execute_reply": "2023-10-06T07:50:40.276207Z",
     "shell.execute_reply.started": "2023-10-06T07:50:40.262956Z"
    }
   },
   "outputs": [
    {
     "data": {
      "text/plain": [
       "(          Station Name   Pvalue  decision year_break\n",
       " 0               Bukoba  0.15935     False       2006\n",
       " 1               Dodoma  0.75370     False       2010\n",
       " 2               Kigoma  0.26040     False       1983\n",
       " 3         Lake Manyara  0.00470      True       1983\n",
       " 4                Mbeya  0.55730     False       1984\n",
       " ..                 ...      ...       ...        ...\n",
       " 86  WANJOHI CHIEF CAMP  0.15505     False       1996\n",
       " 87           Gikonko_1  0.59545     False       2018\n",
       " 88            Ntendezi  0.48730     False       2018\n",
       " 89               Ngoma  0.70805     False       2017\n",
       " 90              Fogera  0.45675     False       2018\n",
       " \n",
       " [91 rows x 4 columns],\n",
       " ['NAIVASHA NANGA GERRI'])"
      ]
     },
     "execution_count": 26,
     "metadata": {},
     "output_type": "execute_result"
    }
   ],
   "source": [
    "dh"
   ]
  },
  {
   "cell_type": "code",
   "execution_count": null,
   "id": "a9f033d4-9ce4-452a-b406-6be26f252321",
   "metadata": {},
   "outputs": [],
   "source": []
  }
 ],
 "metadata": {
  "kernelspec": {
   "display_name": "Python 3 (ipykernel)",
   "language": "python",
   "name": "python3"
  },
  "language_info": {
   "codemirror_mode": {
    "name": "ipython",
    "version": 3
   },
   "file_extension": ".py",
   "mimetype": "text/x-python",
   "name": "python",
   "nbconvert_exporter": "python",
   "pygments_lexer": "ipython3",
   "version": "3.11.5"
  }
 },
 "nbformat": 4,
 "nbformat_minor": 5
}
