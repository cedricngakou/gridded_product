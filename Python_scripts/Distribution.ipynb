{
 "cells": [
  {
   "cell_type": "code",
   "execution_count": 2,
   "id": "8ab065aa-8ef4-4935-8ce8-25c2bb249d86",
   "metadata": {
    "execution": {
     "iopub.execute_input": "2023-10-23T11:28:08.512728Z",
     "iopub.status.busy": "2023-10-23T11:28:08.512188Z",
     "iopub.status.idle": "2023-10-23T11:28:08.518282Z",
     "shell.execute_reply": "2023-10-23T11:28:08.517108Z",
     "shell.execute_reply.started": "2023-10-23T11:28:08.512681Z"
    },
    "tags": []
   },
   "outputs": [],
   "source": [
    "#pip install fitter"
   ]
  },
  {
   "cell_type": "code",
   "execution_count": 3,
   "id": "cb0bec13-e0c6-47eb-8c09-da6776d5b443",
   "metadata": {
    "execution": {
     "iopub.execute_input": "2023-10-23T11:28:09.290433Z",
     "iopub.status.busy": "2023-10-23T11:28:09.289931Z",
     "iopub.status.idle": "2023-10-23T11:28:10.494710Z",
     "shell.execute_reply": "2023-10-23T11:28:10.493410Z",
     "shell.execute_reply.started": "2023-10-23T11:28:09.290384Z"
    },
    "tags": []
   },
   "outputs": [],
   "source": [
    "import pandas as pd\n",
    "import numpy as np\n",
    "from fitter import Fitter, get_common_distributions, get_distributions\n",
    "import seaborn as sns\n",
    "import datetime as dt\n",
    "import matplotlib.pyplot as plt\n",
    "from matplotlib.dates import DateFormatter\n",
    "import matplotlib.dates as mdates\n",
    "from scipy.stats import shapiro\n",
    "from numpy.random import randn\n",
    "import scipy.stats as stats\n",
    "from __future__ import division\n",
    "import scipy.stats\n",
    "from datetime import datetime, timedelta\n",
    "#import plotly.figure_factory as ff\n",
    "import matplotlib, random\n",
    "import re"
   ]
  },
  {
   "cell_type": "code",
   "execution_count": 4,
   "id": "21c8906a-9021-405e-80b8-0bbe5dffa704",
   "metadata": {
    "execution": {
     "iopub.execute_input": "2023-10-23T11:28:13.699530Z",
     "iopub.status.busy": "2023-10-23T11:28:13.698987Z",
     "iopub.status.idle": "2023-10-23T11:28:16.417605Z",
     "shell.execute_reply": "2023-10-23T11:28:16.416828Z",
     "shell.execute_reply.started": "2023-10-23T11:28:13.699482Z"
    },
    "tags": []
   },
   "outputs": [
    {
     "name": "stderr",
     "output_type": "stream",
     "text": [
      "/tmp/ipykernel_205/796669064.py:1: DtypeWarning: Columns (6,7,8,9,10,11,12,13) have mixed types. Specify dtype option on import or set low_memory=False.\n",
      "  df=pd.read_csv(\"station_db.csv\")\n"
     ]
    }
   ],
   "source": [
    "df=pd.read_csv(\"station_db.csv\")"
   ]
  },
  {
   "cell_type": "code",
   "execution_count": 201,
   "id": "e7786e76-76c5-4918-bd00-3c5600ca9c6e",
   "metadata": {
    "execution": {
     "iopub.execute_input": "2023-10-05T16:40:23.077868Z",
     "iopub.status.busy": "2023-10-05T16:40:23.077382Z",
     "iopub.status.idle": "2023-10-05T16:40:23.092225Z",
     "shell.execute_reply": "2023-10-05T16:40:23.091099Z",
     "shell.execute_reply.started": "2023-10-05T16:40:23.077827Z"
    },
    "tags": []
   },
   "outputs": [
    {
     "name": "stderr",
     "output_type": "stream",
     "text": [
      "/tmp/ipykernel_35202/3016797823.py:2: SettingWithCopyWarning: \n",
      "A value is trying to be set on a copy of a slice from a DataFrame\n",
      "\n",
      "See the caveats in the documentation: https://pandas.pydata.org/pandas-docs/stable/user_guide/indexing.html#returning-a-view-versus-a-copy\n",
      "  df[\"prec\"][j]=None\n"
     ]
    }
   ],
   "source": [
    "j=df[\"prec\"]<0\n",
    "df[\"prec\"][j]=None"
   ]
  },
  {
   "cell_type": "code",
   "execution_count": null,
   "id": "875ccc05-d822-4659-a473-3209876b8a6c",
   "metadata": {
    "tags": []
   },
   "outputs": [],
   "source": []
  },
  {
   "cell_type": "code",
   "execution_count": 202,
   "id": "39172786-bb10-4201-a1cc-73c6a53e227c",
   "metadata": {
    "execution": {
     "iopub.execute_input": "2023-10-05T16:40:25.261527Z",
     "iopub.status.busy": "2023-10-05T16:40:25.260974Z",
     "iopub.status.idle": "2023-10-05T16:40:27.363114Z",
     "shell.execute_reply": "2023-10-05T16:40:27.361732Z",
     "shell.execute_reply.started": "2023-10-05T16:40:25.261479Z"
    },
    "tags": []
   },
   "outputs": [],
   "source": [
    "df[\"srad\"] = df[\"srad\"].replace(\"-\", None, regex=True)\n",
    "df[\"tmax\"] = df[\"tmax\"].replace(\"-\", None, regex=True)\n",
    "df[\"tmax\"] = df[\"tmax\"].replace(True, None, regex=True)\n",
    "df[\"tmax\"] = df[\"tmax\"].replace(\"TRUE\", None, regex=True)\n",
    "df[\"tmax\"] = df[\"tmax\"].replace('   ',\"\", regex=True)\n",
    "df[\"tmin\"] = df[\"tmin\"].replace(\"TRUE\", None, regex=True)\n",
    "df[\"tmin\"] = df[\"tmin\"].replace(\"-\", None, regex=True)\n",
    "df[\"wind\"]= df[\"wind\"].replace(\"-\", None, regex=True)"
   ]
  },
  {
   "cell_type": "code",
   "execution_count": 203,
   "id": "5d942edf-7f16-4094-b25d-d9de8e1374b3",
   "metadata": {
    "execution": {
     "iopub.execute_input": "2023-10-05T16:40:28.344772Z",
     "iopub.status.busy": "2023-10-05T16:40:28.344271Z",
     "iopub.status.idle": "2023-10-05T16:40:28.549314Z",
     "shell.execute_reply": "2023-10-05T16:40:28.548409Z",
     "shell.execute_reply.started": "2023-10-05T16:40:28.344729Z"
    },
    "tags": []
   },
   "outputs": [],
   "source": [
    "df[\"srad\"]=df[\"srad\"].astype(float)\n",
    "df[\"tmax\"]=df[\"tmax\"].astype(float)\n",
    "df[\"tmin\"]=df[\"tmin\"].astype(float)\n",
    "df[\"wind\"]=df[\"wind\"].astype(float)"
   ]
  },
  {
   "cell_type": "code",
   "execution_count": 204,
   "id": "519c6db7-3417-4a12-bdd9-ed203a69ed32",
   "metadata": {
    "execution": {
     "iopub.execute_input": "2023-10-05T16:40:30.176421Z",
     "iopub.status.busy": "2023-10-05T16:40:30.175877Z",
     "iopub.status.idle": "2023-10-05T16:40:30.186487Z",
     "shell.execute_reply": "2023-10-05T16:40:30.185055Z",
     "shell.execute_reply.started": "2023-10-05T16:40:30.176376Z"
    },
    "tags": []
   },
   "outputs": [],
   "source": [
    "dregion=pd.read_csv(\"coord_region.csv\")"
   ]
  },
  {
   "cell_type": "code",
   "execution_count": null,
   "id": "a6f64812-24b5-4201-875c-6e7281844afd",
   "metadata": {
    "tags": []
   },
   "outputs": [],
   "source": []
  },
  {
   "cell_type": "code",
   "execution_count": 205,
   "id": "91c935af-2b9b-4549-9147-1921abe9e077",
   "metadata": {
    "execution": {
     "iopub.execute_input": "2023-10-05T16:40:32.761518Z",
     "iopub.status.busy": "2023-10-05T16:40:32.760904Z",
     "iopub.status.idle": "2023-10-05T16:40:32.768586Z",
     "shell.execute_reply": "2023-10-05T16:40:32.767445Z",
     "shell.execute_reply.started": "2023-10-05T16:40:32.761475Z"
    },
    "tags": []
   },
   "outputs": [],
   "source": [
    "dregion=dregion[[\"name\",\"country\",\"Region\"]]"
   ]
  },
  {
   "cell_type": "code",
   "execution_count": 206,
   "id": "3ddb7cee-bf96-4db6-8f25-5c5365398543",
   "metadata": {
    "execution": {
     "iopub.execute_input": "2023-10-05T16:40:33.739213Z",
     "iopub.status.busy": "2023-10-05T16:40:33.738693Z",
     "iopub.status.idle": "2023-10-05T16:40:34.374717Z",
     "shell.execute_reply": "2023-10-05T16:40:34.373416Z",
     "shell.execute_reply.started": "2023-10-05T16:40:33.739167Z"
    },
    "tags": []
   },
   "outputs": [],
   "source": [
    "# add Region in the data\n",
    "df=df.merge(dregion,how='left', left_on='name', right_on='name')"
   ]
  },
  {
   "cell_type": "code",
   "execution_count": 207,
   "id": "677c2ee2-94ce-45e3-b6b6-e0bb6c63f222",
   "metadata": {
    "execution": {
     "iopub.execute_input": "2023-10-05T16:40:41.538708Z",
     "iopub.status.busy": "2023-10-05T16:40:41.538007Z",
     "iopub.status.idle": "2023-10-05T16:40:41.543865Z",
     "shell.execute_reply": "2023-10-05T16:40:41.542730Z",
     "shell.execute_reply.started": "2023-10-05T16:40:41.538665Z"
    },
    "tags": []
   },
   "outputs": [],
   "source": [
    "#df.head(3)"
   ]
  },
  {
   "cell_type": "code",
   "execution_count": 770,
   "id": "9d4e9e39-668c-42e9-8320-3826fc3d3fdd",
   "metadata": {
    "execution": {
     "iopub.execute_input": "2023-10-05T07:02:59.671248Z",
     "iopub.status.busy": "2023-10-05T07:02:59.670682Z",
     "iopub.status.idle": "2023-10-05T07:02:59.683362Z",
     "shell.execute_reply": "2023-10-05T07:02:59.682206Z",
     "shell.execute_reply.started": "2023-10-05T07:02:59.671202Z"
    },
    "tags": []
   },
   "outputs": [],
   "source": [
    "def missing_evaluation(var,data1):\n",
    "    L=[]\n",
    "    data=data1[[\"name\",\"date\",var]]\n",
    "    station_name=data[\"name\"].unique()\n",
    "    for i in range(len(station_name)):\n",
    "        d=data[data[\"name\"]==station_name[i]].reset_index()\n",
    "        d=d.sort_values(by=\"date\")\n",
    "        df=d[d[var].isnull()].reset_index()\n",
    "        L.append((len(df)/len(d))*100)\n",
    "    dff=pd.DataFrame(L,columns=[\"prec\"])\n",
    "    dff[\"station name\"]=station_name  \n",
    "    return dff\n",
    "# percentage of missing data for precipitation \n",
    "#df1=df[(df[\"Region\"]==\"South Region\") ]\n",
    "#L=missing_evaluation(\"prec\",df1)"
   ]
  },
  {
   "cell_type": "code",
   "execution_count": 893,
   "id": "c846461f-a243-4f79-8087-229eb472e138",
   "metadata": {
    "execution": {
     "iopub.execute_input": "2023-10-05T07:50:11.030408Z",
     "iopub.status.busy": "2023-10-05T07:50:11.029799Z",
     "iopub.status.idle": "2023-10-05T07:50:11.175033Z",
     "shell.execute_reply": "2023-10-05T07:50:11.174199Z",
     "shell.execute_reply.started": "2023-10-05T07:50:11.030358Z"
    },
    "tags": []
   },
   "outputs": [],
   "source": []
  },
  {
   "cell_type": "code",
   "execution_count": 221,
   "id": "439220bb-33b5-4151-9113-e618343b35ad",
   "metadata": {
    "execution": {
     "iopub.execute_input": "2023-10-05T16:43:23.561372Z",
     "iopub.status.busy": "2023-10-05T16:43:23.560831Z",
     "iopub.status.idle": "2023-10-05T16:43:23.567497Z",
     "shell.execute_reply": "2023-10-05T16:43:23.566303Z",
     "shell.execute_reply.started": "2023-10-05T16:43:23.561327Z"
    },
    "tags": []
   },
   "outputs": [],
   "source": [
    "#filter east africa stations\n",
    "#dEast=df[df[\"country\"]==\"Kenya\"]\n",
    "ds=['Butere','Migori','KAMIRITHU FANCY FARM','MALEWA FARMER COOP  SOC','N INANGOP FOREST STATION','NAIVASHA DO']\n"
   ]
  },
  {
   "cell_type": "code",
   "execution_count": 222,
   "id": "afb5d9bc-28f7-4f3d-8689-c24cd4828b9e",
   "metadata": {
    "execution": {
     "iopub.execute_input": "2023-10-05T16:43:27.744261Z",
     "iopub.status.busy": "2023-10-05T16:43:27.743720Z",
     "iopub.status.idle": "2023-10-05T16:43:27.757849Z",
     "shell.execute_reply": "2023-10-05T16:43:27.756678Z",
     "shell.execute_reply.started": "2023-10-05T16:43:27.744215Z"
    },
    "tags": []
   },
   "outputs": [],
   "source": [
    "def remove_outlier(d,ds,var):\n",
    "    L,L1=[],[]\n",
    "    station_name = d[\"name\"].unique()\n",
    "    #LL=ds[\"name\"].unique()\n",
    "    LL=ds ## list of station we may want to remove the outlier\n",
    "    dd=pd.DataFrame([],columns=d.columns)\n",
    "    for station in station_name:\n",
    "            df1=d[d[\"name\"]==station]\n",
    "            if station in LL :\n",
    "                df1=df1.reset_index(drop=True)\n",
    "                q1, q3 = np.percentile(df1[var], [25, 75])\n",
    "                iqr,threshold = q3 - q1, 1.5\n",
    "                outlier_indices = np.where((df1[var] < q1 - threshold * iqr) | (df1[var] > q3 + threshold * iqr))[0] \n",
    "                df1.drop(outlier_indices, axis=0, inplace=True)\n",
    "                dd1=pd.concat([dd,df1],axis=0)\n",
    "                dd=dd1\n",
    "                L.append(len(outlier_indices))\n",
    "                L1.append(station)\n",
    "            else:\n",
    "                q1, q3 = np.percentile(df1[var], [25, 75])\n",
    "                iqr,threshold = q3 - q1, 1.5\n",
    "                outlier_indices = np.where((df1[var] < q1 - threshold * iqr) | (df1[var] > q3 + threshold * iqr))[0] \n",
    "                dd1=pd.concat([dd,df1],axis=0)\n",
    "                dd=dd1\n",
    "                L.append(len(outlier_indices))\n",
    "                L1.append(station)\n",
    "    dff=pd.DataFrame(L1,columns=[\"name\"])\n",
    "    dff[\"N_Outlier\"]=L\n",
    "    return dd,dff"
   ]
  },
  {
   "cell_type": "code",
   "execution_count": 223,
   "id": "ed21c1fb-9d48-41ad-a2e6-75957a46d71d",
   "metadata": {
    "execution": {
     "iopub.execute_input": "2023-10-05T16:43:29.855312Z",
     "iopub.status.busy": "2023-10-05T16:43:29.854670Z",
     "iopub.status.idle": "2023-10-05T16:43:57.477541Z",
     "shell.execute_reply": "2023-10-05T16:43:57.475984Z",
     "shell.execute_reply.started": "2023-10-05T16:43:29.855269Z"
    },
    "tags": []
   },
   "outputs": [
    {
     "name": "stderr",
     "output_type": "stream",
     "text": [
      "/tmp/ipykernel_35202/2691808869.py:23: FutureWarning: The behavior of DataFrame concatenation with empty or all-NA entries is deprecated. In a future version, this will no longer exclude empty or all-NA columns when determining the result dtypes. To retain the old behavior, exclude the relevant entries before the concat operation.\n",
      "  dd1=pd.concat([dd,df1],axis=0)\n"
     ]
    }
   ],
   "source": [
    "ddd=remove_outlier(df,ds,\"prec\") # East africa\n",
    "# save the new dataset with outlier removed in kenya country\n",
    "#ddd[0].to_csv(\"df_outlier_remove\"+\".csv\",index=False)\n",
    "#ddd[1].to_csv(\"Number_outlier\"+\".csv\",index=False)          "
   ]
  },
  {
   "cell_type": "code",
   "execution_count": 195,
   "id": "decc469e-590a-46ea-8a78-1aa473560c58",
   "metadata": {
    "execution": {
     "iopub.execute_input": "2023-10-05T14:21:53.195769Z",
     "iopub.status.busy": "2023-10-05T14:21:53.195238Z",
     "iopub.status.idle": "2023-10-05T14:22:02.006877Z",
     "shell.execute_reply": "2023-10-05T14:22:02.005363Z",
     "shell.execute_reply.started": "2023-10-05T14:21:53.195726Z"
    },
    "tags": []
   },
   "outputs": [],
   "source": [
    "ddd[0].to_csv(\"df_outlier_remove\"+\".csv\",index=False)"
   ]
  },
  {
   "cell_type": "code",
   "execution_count": 5,
   "id": "74aba2ec-1026-478c-8305-aa8a7ca31010",
   "metadata": {
    "execution": {
     "iopub.execute_input": "2023-10-23T11:28:31.210884Z",
     "iopub.status.busy": "2023-10-23T11:28:31.210345Z",
     "iopub.status.idle": "2023-10-23T11:28:33.610709Z",
     "shell.execute_reply": "2023-10-23T11:28:33.609870Z",
     "shell.execute_reply.started": "2023-10-23T11:28:31.210841Z"
    },
    "tags": []
   },
   "outputs": [
    {
     "name": "stderr",
     "output_type": "stream",
     "text": [
      "/tmp/ipykernel_205/677392635.py:2: DtypeWarning: Columns (7,9,11,13,14,15) have mixed types. Specify dtype option on import or set low_memory=False.\n",
      "  df=pd.read_csv(\"df_outlier_remove.csv\")\n"
     ]
    }
   ],
   "source": [
    "# New data with outlier removed\n",
    "df=pd.read_csv(\"df_outlier_remove.csv\")"
   ]
  },
  {
   "cell_type": "code",
   "execution_count": null,
   "id": "3d1916b3-85a7-4630-8b57-3669fc697f1c",
   "metadata": {
    "tags": []
   },
   "outputs": [],
   "source": [
    "# add Number of outlier per station in the data\n",
    "#df=df.merge(pd.read_csv(\"Number_outlier.csv\"),how='left', left_on='name', right_on='name')\n",
    "#df.to_csv(\"df_outlier_remove\"+\".csv\",index=False)"
   ]
  },
  {
   "cell_type": "code",
   "execution_count": 6,
   "id": "e43b2273-7842-4fa8-bffd-0653f0245450",
   "metadata": {
    "execution": {
     "iopub.execute_input": "2023-10-23T11:28:37.612747Z",
     "iopub.status.busy": "2023-10-23T11:28:37.612208Z",
     "iopub.status.idle": "2023-10-23T11:28:37.631627Z",
     "shell.execute_reply": "2023-10-23T11:28:37.630890Z",
     "shell.execute_reply.started": "2023-10-23T11:28:37.612704Z"
    },
    "tags": []
   },
   "outputs": [
    {
     "data": {
      "text/html": [
       "<div>\n",
       "<style scoped>\n",
       "    .dataframe tbody tr th:only-of-type {\n",
       "        vertical-align: middle;\n",
       "    }\n",
       "\n",
       "    .dataframe tbody tr th {\n",
       "        vertical-align: top;\n",
       "    }\n",
       "\n",
       "    .dataframe thead th {\n",
       "        text-align: right;\n",
       "    }\n",
       "</style>\n",
       "<table border=\"1\" class=\"dataframe\">\n",
       "  <thead>\n",
       "    <tr style=\"text-align: right;\">\n",
       "      <th></th>\n",
       "      <th>name</th>\n",
       "      <th>N_Outlier</th>\n",
       "    </tr>\n",
       "  </thead>\n",
       "  <tbody>\n",
       "    <tr>\n",
       "      <th>0</th>\n",
       "      <td>BUK Kano_Nigeria</td>\n",
       "      <td>0</td>\n",
       "    </tr>\n",
       "    <tr>\n",
       "      <th>1</th>\n",
       "      <td>IAR ZARIA_Nigeria</td>\n",
       "      <td>342</td>\n",
       "    </tr>\n",
       "    <tr>\n",
       "      <th>2</th>\n",
       "      <td>Bengou Niger</td>\n",
       "      <td>88</td>\n",
       "    </tr>\n",
       "    <tr>\n",
       "      <th>3</th>\n",
       "      <td>Tarana Niger</td>\n",
       "      <td>86</td>\n",
       "    </tr>\n",
       "    <tr>\n",
       "      <th>4</th>\n",
       "      <td>Barto Niger</td>\n",
       "      <td>92</td>\n",
       "    </tr>\n",
       "    <tr>\n",
       "      <th>...</th>\n",
       "      <td>...</td>\n",
       "      <td>...</td>\n",
       "    </tr>\n",
       "    <tr>\n",
       "      <th>171</th>\n",
       "      <td>Man</td>\n",
       "      <td>0</td>\n",
       "    </tr>\n",
       "    <tr>\n",
       "      <th>172</th>\n",
       "      <td>Gikonko_1</td>\n",
       "      <td>0</td>\n",
       "    </tr>\n",
       "    <tr>\n",
       "      <th>173</th>\n",
       "      <td>Ntendezi</td>\n",
       "      <td>0</td>\n",
       "    </tr>\n",
       "    <tr>\n",
       "      <th>174</th>\n",
       "      <td>Ngoma</td>\n",
       "      <td>0</td>\n",
       "    </tr>\n",
       "    <tr>\n",
       "      <th>175</th>\n",
       "      <td>Fogera</td>\n",
       "      <td>0</td>\n",
       "    </tr>\n",
       "  </tbody>\n",
       "</table>\n",
       "<p>176 rows × 2 columns</p>\n",
       "</div>"
      ],
      "text/plain": [
       "                  name  N_Outlier\n",
       "0     BUK Kano_Nigeria          0\n",
       "1    IAR ZARIA_Nigeria        342\n",
       "2         Bengou Niger         88\n",
       "3         Tarana Niger         86\n",
       "4          Barto Niger         92\n",
       "..                 ...        ...\n",
       "171                Man          0\n",
       "172          Gikonko_1          0\n",
       "173           Ntendezi          0\n",
       "174              Ngoma          0\n",
       "175             Fogera          0\n",
       "\n",
       "[176 rows x 2 columns]"
      ]
     },
     "execution_count": 6,
     "metadata": {},
     "output_type": "execute_result"
    }
   ],
   "source": [
    "pd.read_csv(\"Number_outlier.csv\")"
   ]
  },
  {
   "cell_type": "markdown",
   "id": "5ab989ce-a499-4d73-9593-629e5305228c",
   "metadata": {
    "tags": []
   },
   "source": [
    "### Data distribution "
   ]
  },
  {
   "cell_type": "code",
   "execution_count": 7,
   "id": "dfbda100-9ba5-4912-90f4-532b19ab6744",
   "metadata": {
    "execution": {
     "iopub.execute_input": "2023-10-23T11:28:42.551351Z",
     "iopub.status.busy": "2023-10-23T11:28:42.550813Z",
     "iopub.status.idle": "2023-10-23T11:28:52.048643Z",
     "shell.execute_reply": "2023-10-23T11:28:52.047185Z",
     "shell.execute_reply.started": "2023-10-23T11:28:42.551307Z"
    },
    "tags": []
   },
   "outputs": [
    {
     "data": {
      "text/html": [
       "<div>\n",
       "<style scoped>\n",
       "    .dataframe tbody tr th:only-of-type {\n",
       "        vertical-align: middle;\n",
       "    }\n",
       "\n",
       "    .dataframe tbody tr th {\n",
       "        vertical-align: top;\n",
       "    }\n",
       "\n",
       "    .dataframe thead th {\n",
       "        text-align: right;\n",
       "    }\n",
       "</style>\n",
       "<table border=\"1\" class=\"dataframe\">\n",
       "  <thead>\n",
       "    <tr style=\"text-align: right;\">\n",
       "      <th></th>\n",
       "      <th>sumsquare_error</th>\n",
       "      <th>aic</th>\n",
       "      <th>bic</th>\n",
       "      <th>kl_div</th>\n",
       "      <th>ks_statistic</th>\n",
       "      <th>ks_pvalue</th>\n",
       "    </tr>\n",
       "  </thead>\n",
       "  <tbody>\n",
       "    <tr>\n",
       "      <th>gamma</th>\n",
       "      <td>0.055471</td>\n",
       "      <td>1954.308842</td>\n",
       "      <td>1987.337333</td>\n",
       "      <td>inf</td>\n",
       "      <td>0.735491</td>\n",
       "      <td>0.0</td>\n",
       "    </tr>\n",
       "    <tr>\n",
       "      <th>rayleigh</th>\n",
       "      <td>0.077223</td>\n",
       "      <td>20148.778887</td>\n",
       "      <td>20170.797881</td>\n",
       "      <td>inf</td>\n",
       "      <td>0.459461</td>\n",
       "      <td>0.0</td>\n",
       "    </tr>\n",
       "    <tr>\n",
       "      <th>beta</th>\n",
       "      <td>0.082954</td>\n",
       "      <td>23989.940101</td>\n",
       "      <td>24033.978089</td>\n",
       "      <td>inf</td>\n",
       "      <td>0.732642</td>\n",
       "      <td>0.0</td>\n",
       "    </tr>\n",
       "    <tr>\n",
       "      <th>norm</th>\n",
       "      <td>0.083618</td>\n",
       "      <td>22811.261577</td>\n",
       "      <td>22833.280571</td>\n",
       "      <td>inf</td>\n",
       "      <td>0.375798</td>\n",
       "      <td>0.0</td>\n",
       "    </tr>\n",
       "    <tr>\n",
       "      <th>lognorm</th>\n",
       "      <td>0.105059</td>\n",
       "      <td>2538.762438</td>\n",
       "      <td>2571.790929</td>\n",
       "      <td>inf</td>\n",
       "      <td>0.461136</td>\n",
       "      <td>0.0</td>\n",
       "    </tr>\n",
       "  </tbody>\n",
       "</table>\n",
       "</div>"
      ],
      "text/plain": [
       "          sumsquare_error           aic           bic  kl_div  ks_statistic  \\\n",
       "gamma            0.055471   1954.308842   1987.337333     inf      0.735491   \n",
       "rayleigh         0.077223  20148.778887  20170.797881     inf      0.459461   \n",
       "beta             0.082954  23989.940101  24033.978089     inf      0.732642   \n",
       "norm             0.083618  22811.261577  22833.280571     inf      0.375798   \n",
       "lognorm          0.105059   2538.762438   2571.790929     inf      0.461136   \n",
       "\n",
       "          ks_pvalue  \n",
       "gamma           0.0  \n",
       "rayleigh        0.0  \n",
       "beta            0.0  \n",
       "norm            0.0  \n",
       "lognorm         0.0  "
      ]
     },
     "execution_count": 7,
     "metadata": {},
     "output_type": "execute_result"
    },
    {
     "data": {
      "image/png": "[encoded data removed]",
      "text/plain": [
       "<Figure size 640x480 with 1 Axes>"
      ]
     },
     "metadata": {},
     "output_type": "display_data"
    }
   ],
   "source": [
    "## West region\n",
    "dW=df[df[\"Region\"]==\"West Region\"]\n",
    "dW=dW.sort_values(by=\"date\")\n",
    "dW=dW[dW[\"prec\"].notnull()]\n",
    "f = Fitter(dW[\"prec\"],\n",
    "           distributions=['gamma','lognorm', \"beta\",\"norm\",\"rayleigh\"])\n",
    "f.fit()\n",
    "f.summary()\n"
   ]
  },
  {
   "cell_type": "code",
   "execution_count": 8,
   "id": "be04a236-7809-4102-a9eb-98d7cdcb2ca7",
   "metadata": {
    "execution": {
     "iopub.execute_input": "2023-10-23T11:29:00.560963Z",
     "iopub.status.busy": "2023-10-23T11:29:00.560418Z",
     "iopub.status.idle": "2023-10-23T11:29:23.553878Z",
     "shell.execute_reply": "2023-10-23T11:29:23.553053Z",
     "shell.execute_reply.started": "2023-10-23T11:29:00.560919Z"
    },
    "tags": []
   },
   "outputs": [
    {
     "data": {
      "text/html": [
       "<div>\n",
       "<style scoped>\n",
       "    .dataframe tbody tr th:only-of-type {\n",
       "        vertical-align: middle;\n",
       "    }\n",
       "\n",
       "    .dataframe tbody tr th {\n",
       "        vertical-align: top;\n",
       "    }\n",
       "\n",
       "    .dataframe thead th {\n",
       "        text-align: right;\n",
       "    }\n",
       "</style>\n",
       "<table border=\"1\" class=\"dataframe\">\n",
       "  <thead>\n",
       "    <tr style=\"text-align: right;\">\n",
       "      <th></th>\n",
       "      <th>sumsquare_error</th>\n",
       "      <th>aic</th>\n",
       "      <th>bic</th>\n",
       "      <th>kl_div</th>\n",
       "      <th>ks_statistic</th>\n",
       "      <th>ks_pvalue</th>\n",
       "    </tr>\n",
       "  </thead>\n",
       "  <tbody>\n",
       "    <tr>\n",
       "      <th>beta</th>\n",
       "      <td>0.017160</td>\n",
       "      <td>6720.894212</td>\n",
       "      <td>6767.387111</td>\n",
       "      <td>inf</td>\n",
       "      <td>0.633559</td>\n",
       "      <td>0.0</td>\n",
       "    </tr>\n",
       "    <tr>\n",
       "      <th>gamma</th>\n",
       "      <td>0.042756</td>\n",
       "      <td>2068.316807</td>\n",
       "      <td>2103.186481</td>\n",
       "      <td>inf</td>\n",
       "      <td>0.633559</td>\n",
       "      <td>0.0</td>\n",
       "    </tr>\n",
       "    <tr>\n",
       "      <th>rayleigh</th>\n",
       "      <td>0.069184</td>\n",
       "      <td>22827.698692</td>\n",
       "      <td>22850.945141</td>\n",
       "      <td>inf</td>\n",
       "      <td>0.385072</td>\n",
       "      <td>0.0</td>\n",
       "    </tr>\n",
       "    <tr>\n",
       "      <th>norm</th>\n",
       "      <td>0.076176</td>\n",
       "      <td>27085.542546</td>\n",
       "      <td>27108.788996</td>\n",
       "      <td>inf</td>\n",
       "      <td>0.339566</td>\n",
       "      <td>0.0</td>\n",
       "    </tr>\n",
       "    <tr>\n",
       "      <th>lognorm</th>\n",
       "      <td>0.102574</td>\n",
       "      <td>2432.208072</td>\n",
       "      <td>2467.077746</td>\n",
       "      <td>inf</td>\n",
       "      <td>0.410085</td>\n",
       "      <td>0.0</td>\n",
       "    </tr>\n",
       "  </tbody>\n",
       "</table>\n",
       "</div>"
      ],
      "text/plain": [
       "          sumsquare_error           aic           bic  kl_div  ks_statistic  \\\n",
       "beta             0.017160   6720.894212   6767.387111     inf      0.633559   \n",
       "gamma            0.042756   2068.316807   2103.186481     inf      0.633559   \n",
       "rayleigh         0.069184  22827.698692  22850.945141     inf      0.385072   \n",
       "norm             0.076176  27085.542546  27108.788996     inf      0.339566   \n",
       "lognorm          0.102574   2432.208072   2467.077746     inf      0.410085   \n",
       "\n",
       "          ks_pvalue  \n",
       "beta            0.0  \n",
       "gamma           0.0  \n",
       "rayleigh        0.0  \n",
       "norm            0.0  \n",
       "lognorm         0.0  "
      ]
     },
     "execution_count": 8,
     "metadata": {},
     "output_type": "execute_result"
    },
    {
     "data": {
      "image/png": "[encoded data removed]",
      "text/plain": [
       "<Figure size 640x480 with 1 Axes>"
      ]
     },
     "metadata": {},
     "output_type": "display_data"
    }
   ],
   "source": [
    "dW=df[(df[\"Region\"]==\"East Region\") ]\n",
    "dW=dW.sort_values(by=\"date\")\n",
    "dW=dW[dW[\"prec\"].notnull()]\n",
    "f = Fitter(dW[\"prec\"],\n",
    "           distributions=['gamma','lognorm', \"beta\",\"norm\",\"rayleigh\"])\n",
    "f.fit()\n",
    "f.summary()\n"
   ]
  },
  {
   "cell_type": "code",
   "execution_count": 210,
   "id": "51f905ab-f101-42e4-99c3-b53101ef1d8d",
   "metadata": {
    "execution": {
     "iopub.execute_input": "2023-10-05T16:41:40.720005Z",
     "iopub.status.busy": "2023-10-05T16:41:40.719353Z",
     "iopub.status.idle": "2023-10-05T16:41:45.094243Z",
     "shell.execute_reply": "2023-10-05T16:41:45.092739Z",
     "shell.execute_reply.started": "2023-10-05T16:41:40.719957Z"
    },
    "tags": []
   },
   "outputs": [
    {
     "data": {
      "text/html": [
       "<div>\n",
       "<style scoped>\n",
       "    .dataframe tbody tr th:only-of-type {\n",
       "        vertical-align: middle;\n",
       "    }\n",
       "\n",
       "    .dataframe tbody tr th {\n",
       "        vertical-align: top;\n",
       "    }\n",
       "\n",
       "    .dataframe thead th {\n",
       "        text-align: right;\n",
       "    }\n",
       "</style>\n",
       "<table border=\"1\" class=\"dataframe\">\n",
       "  <thead>\n",
       "    <tr style=\"text-align: right;\">\n",
       "      <th></th>\n",
       "      <th>sumsquare_error</th>\n",
       "      <th>aic</th>\n",
       "      <th>bic</th>\n",
       "      <th>kl_div</th>\n",
       "      <th>ks_statistic</th>\n",
       "      <th>ks_pvalue</th>\n",
       "    </tr>\n",
       "  </thead>\n",
       "  <tbody>\n",
       "    <tr>\n",
       "      <th>beta</th>\n",
       "      <td>0.094886</td>\n",
       "      <td>26462.246879</td>\n",
       "      <td>26503.012481</td>\n",
       "      <td>inf</td>\n",
       "      <td>0.761932</td>\n",
       "      <td>0.0</td>\n",
       "    </tr>\n",
       "    <tr>\n",
       "      <th>gamma</th>\n",
       "      <td>0.098241</td>\n",
       "      <td>1913.210421</td>\n",
       "      <td>1943.784623</td>\n",
       "      <td>inf</td>\n",
       "      <td>0.761929</td>\n",
       "      <td>0.0</td>\n",
       "    </tr>\n",
       "    <tr>\n",
       "      <th>rayleigh</th>\n",
       "      <td>0.125264</td>\n",
       "      <td>21905.915888</td>\n",
       "      <td>21926.298689</td>\n",
       "      <td>inf</td>\n",
       "      <td>0.473723</td>\n",
       "      <td>0.0</td>\n",
       "    </tr>\n",
       "    <tr>\n",
       "      <th>norm</th>\n",
       "      <td>0.136193</td>\n",
       "      <td>24447.689920</td>\n",
       "      <td>24468.072721</td>\n",
       "      <td>inf</td>\n",
       "      <td>0.388819</td>\n",
       "      <td>0.0</td>\n",
       "    </tr>\n",
       "    <tr>\n",
       "      <th>lognorm</th>\n",
       "      <td>0.171425</td>\n",
       "      <td>2530.952337</td>\n",
       "      <td>2561.526538</td>\n",
       "      <td>inf</td>\n",
       "      <td>0.473842</td>\n",
       "      <td>0.0</td>\n",
       "    </tr>\n",
       "  </tbody>\n",
       "</table>\n",
       "</div>"
      ],
      "text/plain": [
       "          sumsquare_error           aic           bic  kl_div  ks_statistic  \\\n",
       "beta             0.094886  26462.246879  26503.012481     inf      0.761932   \n",
       "gamma            0.098241   1913.210421   1943.784623     inf      0.761929   \n",
       "rayleigh         0.125264  21905.915888  21926.298689     inf      0.473723   \n",
       "norm             0.136193  24447.689920  24468.072721     inf      0.388819   \n",
       "lognorm          0.171425   2530.952337   2561.526538     inf      0.473842   \n",
       "\n",
       "          ks_pvalue  \n",
       "beta            0.0  \n",
       "gamma           0.0  \n",
       "rayleigh        0.0  \n",
       "norm            0.0  \n",
       "lognorm         0.0  "
      ]
     },
     "execution_count": 210,
     "metadata": {},
     "output_type": "execute_result"
    },
    {
     "data": {
      "image/png": "[encoded data removed]",
      "text/plain": [
       "<Figure size 640x480 with 1 Axes>"
      ]
     },
     "metadata": {},
     "output_type": "display_data"
    }
   ],
   "source": [
    "dW=df[df[\"Region\"]==\"South Region\"]\n",
    "dW=dW.sort_values(by=\"date\")\n",
    "dW=dW[dW[\"prec\"].notnull()]\n",
    "f = Fitter(dW[\"prec\"],\n",
    "           distributions=['gamma','lognorm', \"beta\",\"norm\",\"rayleigh\"])\n",
    "f.fit()\n",
    "f.summary()"
   ]
  },
  {
   "cell_type": "code",
   "execution_count": 211,
   "id": "31876365-c8fe-41ec-afaa-99f16997713e",
   "metadata": {
    "execution": {
     "iopub.execute_input": "2023-10-05T16:41:54.723187Z",
     "iopub.status.busy": "2023-10-05T16:41:54.722633Z",
     "iopub.status.idle": "2023-10-05T16:42:10.007392Z",
     "shell.execute_reply": "2023-10-05T16:42:10.006007Z",
     "shell.execute_reply.started": "2023-10-05T16:41:54.723142Z"
    },
    "tags": []
   },
   "outputs": [
    {
     "data": {
      "text/html": [
       "<div>\n",
       "<style scoped>\n",
       "    .dataframe tbody tr th:only-of-type {\n",
       "        vertical-align: middle;\n",
       "    }\n",
       "\n",
       "    .dataframe tbody tr th {\n",
       "        vertical-align: top;\n",
       "    }\n",
       "\n",
       "    .dataframe thead th {\n",
       "        text-align: right;\n",
       "    }\n",
       "</style>\n",
       "<table border=\"1\" class=\"dataframe\">\n",
       "  <thead>\n",
       "    <tr style=\"text-align: right;\">\n",
       "      <th></th>\n",
       "      <th>sumsquare_error</th>\n",
       "      <th>aic</th>\n",
       "      <th>bic</th>\n",
       "      <th>kl_div</th>\n",
       "      <th>ks_statistic</th>\n",
       "      <th>ks_pvalue</th>\n",
       "    </tr>\n",
       "  </thead>\n",
       "  <tbody>\n",
       "    <tr>\n",
       "      <th>rayleigh</th>\n",
       "      <td>0.002383</td>\n",
       "      <td>230528.141685</td>\n",
       "      <td>230551.041059</td>\n",
       "      <td>inf</td>\n",
       "      <td>0.372122</td>\n",
       "      <td>0.0</td>\n",
       "    </tr>\n",
       "    <tr>\n",
       "      <th>norm</th>\n",
       "      <td>0.003791</td>\n",
       "      <td>295677.869142</td>\n",
       "      <td>295700.768516</td>\n",
       "      <td>inf</td>\n",
       "      <td>0.333902</td>\n",
       "      <td>0.0</td>\n",
       "    </tr>\n",
       "    <tr>\n",
       "      <th>beta</th>\n",
       "      <td>0.006697</td>\n",
       "      <td>52341.133931</td>\n",
       "      <td>52386.932678</td>\n",
       "      <td>inf</td>\n",
       "      <td>0.614899</td>\n",
       "      <td>0.0</td>\n",
       "    </tr>\n",
       "    <tr>\n",
       "      <th>gamma</th>\n",
       "      <td>0.010623</td>\n",
       "      <td>53139.659039</td>\n",
       "      <td>53174.008099</td>\n",
       "      <td>inf</td>\n",
       "      <td>0.614208</td>\n",
       "      <td>0.0</td>\n",
       "    </tr>\n",
       "    <tr>\n",
       "      <th>lognorm</th>\n",
       "      <td>0.011176</td>\n",
       "      <td>2670.837550</td>\n",
       "      <td>2705.186611</td>\n",
       "      <td>inf</td>\n",
       "      <td>0.400537</td>\n",
       "      <td>0.0</td>\n",
       "    </tr>\n",
       "  </tbody>\n",
       "</table>\n",
       "</div>"
      ],
      "text/plain": [
       "          sumsquare_error            aic            bic  kl_div  ks_statistic  \\\n",
       "rayleigh         0.002383  230528.141685  230551.041059     inf      0.372122   \n",
       "norm             0.003791  295677.869142  295700.768516     inf      0.333902   \n",
       "beta             0.006697   52341.133931   52386.932678     inf      0.614899   \n",
       "gamma            0.010623   53139.659039   53174.008099     inf      0.614208   \n",
       "lognorm          0.011176    2670.837550    2705.186611     inf      0.400537   \n",
       "\n",
       "          ks_pvalue  \n",
       "rayleigh        0.0  \n",
       "norm            0.0  \n",
       "beta            0.0  \n",
       "gamma           0.0  \n",
       "lognorm         0.0  "
      ]
     },
     "execution_count": 211,
     "metadata": {},
     "output_type": "execute_result"
    },
    {
     "data": {
      "image/png": "[encoded data removed]",
      "text/plain": [
       "<Figure size 640x480 with 1 Axes>"
      ]
     },
     "metadata": {},
     "output_type": "display_data"
    }
   ],
   "source": [
    "# check kenya country distribution\n",
    "#dW=df[(df[\"country\"]==\"Kenya\")& ((df[\"name\"]!=cc[29])|(df[\"name\"]!=cc[30])|(df[\"name\"]!=cc[31])|(df[\"name\"]!=cc[33])|(df[\"name\"]!=cc[39])|(df[\"name\"]!=cc[42])|(df[\"name\"]!=cc[45])|(df[\"name\"]!=cc[48])|(df[\"name\"]!=cc[61])|(df[\"name\"]!=cc[66])|(df[\"name\"]!=cc[73]))]\n",
    "dW=df[(df[\"country\"]==\"Kenya\")]\n",
    "dW=dW.sort_values(by=\"date\")\n",
    "dW=dW[dW[\"prec\"].notnull()]\n",
    "f = Fitter(dW[\"prec\"],\n",
    "           distributions=['gamma','lognorm', \"beta\",\"norm\",\"rayleigh\"])\n",
    "f.fit()\n",
    "f.summary()"
   ]
  },
  {
   "cell_type": "code",
   "execution_count": 20,
   "id": "f2cb6747-83b6-4967-a9b8-abc5185a5349",
   "metadata": {
    "execution": {
     "iopub.execute_input": "2023-09-30T17:30:11.666499Z",
     "iopub.status.busy": "2023-09-30T17:30:11.665929Z",
     "iopub.status.idle": "2023-09-30T17:30:11.671989Z",
     "shell.execute_reply": "2023-09-30T17:30:11.670738Z",
     "shell.execute_reply.started": "2023-09-30T17:30:11.666454Z"
    },
    "tags": []
   },
   "outputs": [],
   "source": [
    "#dW[\"prec\"].unique()"
   ]
  },
  {
   "cell_type": "code",
   "execution_count": 212,
   "id": "7089d76d-3386-4d9e-8d6b-c1c43648cabc",
   "metadata": {
    "execution": {
     "iopub.execute_input": "2023-10-05T16:42:25.235083Z",
     "iopub.status.busy": "2023-10-05T16:42:25.234536Z",
     "iopub.status.idle": "2023-10-05T16:42:25.422777Z",
     "shell.execute_reply": "2023-10-05T16:42:25.421384Z",
     "shell.execute_reply.started": "2023-10-05T16:42:25.235037Z"
    },
    "tags": []
   },
   "outputs": [],
   "source": [
    "#filter east africa stations\n",
    "dEast=df[df[\"country\"]==\"Kenya\"]"
   ]
  },
  {
   "cell_type": "code",
   "execution_count": 213,
   "id": "2f074986-4184-49ed-8d7d-8c5ea30abb22",
   "metadata": {
    "execution": {
     "iopub.execute_input": "2023-10-05T16:42:26.514115Z",
     "iopub.status.busy": "2023-10-05T16:42:26.513586Z",
     "iopub.status.idle": "2023-10-05T16:42:26.546846Z",
     "shell.execute_reply": "2023-10-05T16:42:26.545874Z",
     "shell.execute_reply.started": "2023-10-05T16:42:26.514070Z"
    },
    "tags": []
   },
   "outputs": [],
   "source": [
    "dEast=dEast[[\"date\",\"name\",\"prec\"]]"
   ]
  },
  {
   "cell_type": "code",
   "execution_count": 214,
   "id": "63c76cad-d783-4767-988b-79252f5a34f4",
   "metadata": {
    "execution": {
     "iopub.execute_input": "2023-10-05T16:42:27.805585Z",
     "iopub.status.busy": "2023-10-05T16:42:27.805064Z",
     "iopub.status.idle": "2023-10-05T16:42:27.852486Z",
     "shell.execute_reply": "2023-10-05T16:42:27.851548Z",
     "shell.execute_reply.started": "2023-10-05T16:42:27.805542Z"
    },
    "tags": []
   },
   "outputs": [],
   "source": [
    "cc=dEast[\"name\"].unique()"
   ]
  },
  {
   "cell_type": "code",
   "execution_count": 219,
   "id": "751edf3b-3099-4771-b97c-9314785930cc",
   "metadata": {
    "execution": {
     "iopub.execute_input": "2023-10-05T16:43:03.956623Z",
     "iopub.status.busy": "2023-10-05T16:43:03.955962Z",
     "iopub.status.idle": "2023-10-05T16:43:04.013537Z",
     "shell.execute_reply": "2023-10-05T16:43:04.012705Z",
     "shell.execute_reply.started": "2023-10-05T16:43:03.956577Z"
    },
    "tags": []
   },
   "outputs": [],
   "source": [
    "# check the distribution station by staion \n",
    "dcoun=dEast[dEast[\"name\"]==cc[1]]# cc[29],cc[30],cc[31],cc[33],cc[39],cc[42],cc[45],cc[48],cc[61],cc[66],cc[73]\n",
    "            #'Kisii',KitaleMet','Bunyala','GATARE FOREST STATION','MWEIGA GATE','NGETHU WATER SUPPLY'\n",
    "#'OLCHORO AGRI  OFFICE','SUBUKIA PYRETHRUM NURSERY','SURURU FOREST STATION'"
   ]
  },
  {
   "cell_type": "code",
   "execution_count": 220,
   "id": "0da72542-68ba-4018-96f5-e1cd786dd70c",
   "metadata": {
    "execution": {
     "iopub.execute_input": "2023-10-05T16:43:04.553819Z",
     "iopub.status.busy": "2023-10-05T16:43:04.553347Z",
     "iopub.status.idle": "2023-10-05T16:43:05.767746Z",
     "shell.execute_reply": "2023-10-05T16:43:05.766935Z",
     "shell.execute_reply.started": "2023-10-05T16:43:04.553777Z"
    },
    "tags": []
   },
   "outputs": [
    {
     "data": {
      "text/html": [
       "<div>\n",
       "<style scoped>\n",
       "    .dataframe tbody tr th:only-of-type {\n",
       "        vertical-align: middle;\n",
       "    }\n",
       "\n",
       "    .dataframe tbody tr th {\n",
       "        vertical-align: top;\n",
       "    }\n",
       "\n",
       "    .dataframe thead th {\n",
       "        text-align: right;\n",
       "    }\n",
       "</style>\n",
       "<table border=\"1\" class=\"dataframe\">\n",
       "  <thead>\n",
       "    <tr style=\"text-align: right;\">\n",
       "      <th></th>\n",
       "      <th>sumsquare_error</th>\n",
       "      <th>aic</th>\n",
       "      <th>bic</th>\n",
       "      <th>kl_div</th>\n",
       "      <th>ks_statistic</th>\n",
       "      <th>ks_pvalue</th>\n",
       "    </tr>\n",
       "  </thead>\n",
       "  <tbody>\n",
       "    <tr>\n",
       "      <th>beta</th>\n",
       "      <td>0.036801</td>\n",
       "      <td>7110.804606</td>\n",
       "      <td>7142.436317</td>\n",
       "      <td>inf</td>\n",
       "      <td>0.571357</td>\n",
       "      <td>0.0</td>\n",
       "    </tr>\n",
       "    <tr>\n",
       "      <th>gamma</th>\n",
       "      <td>0.116081</td>\n",
       "      <td>1490.549041</td>\n",
       "      <td>1514.272824</td>\n",
       "      <td>inf</td>\n",
       "      <td>0.571357</td>\n",
       "      <td>0.0</td>\n",
       "    </tr>\n",
       "    <tr>\n",
       "      <th>rayleigh</th>\n",
       "      <td>0.200484</td>\n",
       "      <td>6301.421672</td>\n",
       "      <td>6317.237528</td>\n",
       "      <td>inf</td>\n",
       "      <td>0.345600</td>\n",
       "      <td>0.0</td>\n",
       "    </tr>\n",
       "    <tr>\n",
       "      <th>norm</th>\n",
       "      <td>0.210356</td>\n",
       "      <td>7095.926570</td>\n",
       "      <td>7111.742425</td>\n",
       "      <td>inf</td>\n",
       "      <td>0.318772</td>\n",
       "      <td>0.0</td>\n",
       "    </tr>\n",
       "    <tr>\n",
       "      <th>lognorm</th>\n",
       "      <td>0.250167</td>\n",
       "      <td>2280.044183</td>\n",
       "      <td>2303.767966</td>\n",
       "      <td>inf</td>\n",
       "      <td>0.378153</td>\n",
       "      <td>0.0</td>\n",
       "    </tr>\n",
       "  </tbody>\n",
       "</table>\n",
       "</div>"
      ],
      "text/plain": [
       "          sumsquare_error          aic          bic  kl_div  ks_statistic  \\\n",
       "beta             0.036801  7110.804606  7142.436317     inf      0.571357   \n",
       "gamma            0.116081  1490.549041  1514.272824     inf      0.571357   \n",
       "rayleigh         0.200484  6301.421672  6317.237528     inf      0.345600   \n",
       "norm             0.210356  7095.926570  7111.742425     inf      0.318772   \n",
       "lognorm          0.250167  2280.044183  2303.767966     inf      0.378153   \n",
       "\n",
       "          ks_pvalue  \n",
       "beta            0.0  \n",
       "gamma           0.0  \n",
       "rayleigh        0.0  \n",
       "norm            0.0  \n",
       "lognorm         0.0  "
      ]
     },
     "execution_count": 220,
     "metadata": {},
     "output_type": "execute_result"
    },
    {
     "data": {
      "image/png": "[encoded data removed]",
      "text/plain": [
       "<Figure size 640x480 with 1 Axes>"
      ]
     },
     "metadata": {},
     "output_type": "display_data"
    }
   ],
   "source": [
    "\n",
    "dW=dcoun.sort_values(by=\"date\")\n",
    "dW=dW[dW[\"prec\"].notnull()]\n",
    "f = Fitter(dW[\"prec\"],\n",
    "           distributions=['gamma','lognorm', \"beta\",\"norm\",\"rayleigh\"])\n",
    "f.fit()\n",
    "f.summary()"
   ]
  },
  {
   "cell_type": "code",
   "execution_count": 189,
   "id": "411a306b-7c34-4e11-b1dd-66e9ca56dc33",
   "metadata": {
    "execution": {
     "iopub.execute_input": "2023-10-05T14:17:56.342673Z",
     "iopub.status.busy": "2023-10-05T14:17:56.341983Z",
     "iopub.status.idle": "2023-10-05T14:17:56.349276Z",
     "shell.execute_reply": "2023-10-05T14:17:56.347966Z",
     "shell.execute_reply.started": "2023-10-05T14:17:56.342625Z"
    },
    "tags": []
   },
   "outputs": [],
   "source": [
    "L=[cc[18],cc[23],cc[37],cc[46],cc[51],cc[61]]"
   ]
  },
  {
   "cell_type": "code",
   "execution_count": 190,
   "id": "2fcc2e88-83af-4a85-a2ac-e40eb8d87120",
   "metadata": {
    "execution": {
     "iopub.execute_input": "2023-10-05T14:18:07.509917Z",
     "iopub.status.busy": "2023-10-05T14:18:07.509365Z",
     "iopub.status.idle": "2023-10-05T14:18:07.518043Z",
     "shell.execute_reply": "2023-10-05T14:18:07.517046Z",
     "shell.execute_reply.started": "2023-10-05T14:18:07.509872Z"
    },
    "tags": []
   },
   "outputs": [
    {
     "data": {
      "text/plain": [
       "['Butere',\n",
       " 'Migori',\n",
       " 'KAMIRITHU FANCY FARM',\n",
       " 'MALEWA FARMER COOP  SOC',\n",
       " 'N INANGOP FOREST STATION',\n",
       " 'NAIVASHA DO']"
      ]
     },
     "execution_count": 190,
     "metadata": {},
     "output_type": "execute_result"
    }
   ],
   "source": [
    "L\n",
    "#dcoun #[\"prec\"].value_counts() 'Alupe', 'BungomaWS'"
   ]
  },
  {
   "cell_type": "code",
   "execution_count": 255,
   "id": "92279a5f-98c1-4dde-92ad-3787d759402e",
   "metadata": {
    "execution": {
     "iopub.execute_input": "2023-10-03T22:22:05.917010Z",
     "iopub.status.busy": "2023-10-03T22:22:05.916442Z",
     "iopub.status.idle": "2023-10-03T22:22:05.924212Z",
     "shell.execute_reply": "2023-10-03T22:22:05.922994Z",
     "shell.execute_reply.started": "2023-10-03T22:22:05.916964Z"
    },
    "tags": []
   },
   "outputs": [],
   "source": [
    "#L=['Eldoret','Kakamega','Kaimosi','Chemelil','Homabay','TinderetTea','Butere','ElgeyoForest','Nzoia','Rusinga','Migori','GilgilKwetu',\n",
    "#'CHAMATA GATE','CHEBUSWA HILL','CULVERT CAMP','GILGIL KIKOPEY RANCH','KAMIRITHU FANCY FARM','N INANGOP FOREST STATION','NAIVASHA NANGA GERRI','NAIVASHA DO']"
   ]
  },
  {
   "cell_type": "code",
   "execution_count": 256,
   "id": "9440c618-4a8a-4458-bf5f-d1ae74e4ae73",
   "metadata": {
    "execution": {
     "iopub.execute_input": "2023-10-03T22:22:16.101603Z",
     "iopub.status.busy": "2023-10-03T22:22:16.101052Z",
     "iopub.status.idle": "2023-10-03T22:22:16.109731Z",
     "shell.execute_reply": "2023-10-03T22:22:16.108516Z",
     "shell.execute_reply.started": "2023-10-03T22:22:16.101559Z"
    },
    "tags": []
   },
   "outputs": [
    {
     "data": {
      "text/plain": [
       "24"
      ]
     },
     "execution_count": 256,
     "metadata": {},
     "output_type": "execute_result"
    }
   ],
   "source": [
    "len(L)"
   ]
  },
  {
   "cell_type": "code",
   "execution_count": null,
   "id": "8751a144-f450-4b60-8674-0b027a671dbc",
   "metadata": {},
   "outputs": [],
   "source": [
    "#**'CHEBUSWA HILL',**'CULVERT CAMP',**'CHEBUSWA HILL',*'Butere',*'DUNDORI FOREST STATION',*'GILGIL KIKOPEY RANCH'"
   ]
  },
  {
   "cell_type": "code",
   "execution_count": 533,
   "id": "6b23e416-bf94-4f56-ac8f-86b5458c73d9",
   "metadata": {
    "execution": {
     "iopub.execute_input": "2023-10-04T07:12:47.735347Z",
     "iopub.status.busy": "2023-10-04T07:12:47.734789Z",
     "iopub.status.idle": "2023-10-04T07:12:55.670111Z",
     "shell.execute_reply": "2023-10-04T07:12:55.668661Z",
     "shell.execute_reply.started": "2023-10-04T07:12:47.735302Z"
    },
    "tags": []
   },
   "outputs": [],
   "source": []
  },
  {
   "cell_type": "code",
   "execution_count": 499,
   "id": "6e17a54c-31e6-4c2f-a1b6-128df7642ef8",
   "metadata": {
    "execution": {
     "iopub.execute_input": "2023-10-04T07:00:15.913413Z",
     "iopub.status.busy": "2023-10-04T07:00:15.912871Z",
     "iopub.status.idle": "2023-10-04T07:00:15.921246Z",
     "shell.execute_reply": "2023-10-04T07:00:15.920057Z",
     "shell.execute_reply.started": "2023-10-04T07:00:15.913369Z"
    },
    "tags": []
   },
   "outputs": [],
   "source": []
  },
  {
   "cell_type": "code",
   "execution_count": 736,
   "id": "3d7e04c8-39c4-432f-a4a7-689669de2489",
   "metadata": {
    "execution": {
     "iopub.execute_input": "2023-10-04T11:18:06.428976Z",
     "iopub.status.busy": "2023-10-04T11:18:06.428252Z",
     "iopub.status.idle": "2023-10-04T11:18:06.439867Z",
     "shell.execute_reply": "2023-10-04T11:18:06.438543Z",
     "shell.execute_reply.started": "2023-10-04T11:18:06.428928Z"
    },
    "tags": []
   },
   "outputs": [],
   "source": []
  },
  {
   "cell_type": "code",
   "execution_count": null,
   "id": "8f324b28-2120-41ea-9d2f-ba1f526bd04c",
   "metadata": {},
   "outputs": [],
   "source": []
  },
  {
   "cell_type": "code",
   "execution_count": 738,
   "id": "db7f846b-c75c-4d12-a056-49283da3f2d8",
   "metadata": {
    "execution": {
     "iopub.execute_input": "2023-10-04T11:25:19.307119Z",
     "iopub.status.busy": "2023-10-04T11:25:19.306426Z",
     "iopub.status.idle": "2023-10-04T11:25:19.641679Z",
     "shell.execute_reply": "2023-10-04T11:25:19.640333Z",
     "shell.execute_reply.started": "2023-10-04T11:25:19.307071Z"
    },
    "tags": []
   },
   "outputs": [],
   "source": []
  },
  {
   "cell_type": "code",
   "execution_count": 740,
   "id": "88d0fb0f-99df-4165-bfef-16c417421630",
   "metadata": {
    "execution": {
     "iopub.execute_input": "2023-10-04T11:26:32.427356Z",
     "iopub.status.busy": "2023-10-04T11:26:32.426771Z",
     "iopub.status.idle": "2023-10-04T11:26:40.915110Z",
     "shell.execute_reply": "2023-10-04T11:26:40.913428Z",
     "shell.execute_reply.started": "2023-10-04T11:26:32.427310Z"
    },
    "tags": []
   },
   "outputs": [],
   "source": []
  },
  {
   "cell_type": "code",
   "execution_count": null,
   "id": "57679924-7389-4747-99cc-8a59ad4eb9ea",
   "metadata": {
    "tags": []
   },
   "outputs": [],
   "source": []
  },
  {
   "cell_type": "code",
   "execution_count": null,
   "id": "8e0143bf-8929-4c34-bf3a-dcb30d872a7c",
   "metadata": {
    "tags": []
   },
   "outputs": [],
   "source": []
  },
  {
   "cell_type": "code",
   "execution_count": 326,
   "id": "550861c4-d457-4234-a387-93790e825adc",
   "metadata": {
    "execution": {
     "iopub.execute_input": "2023-10-04T04:16:39.631509Z",
     "iopub.status.busy": "2023-10-04T04:16:39.630823Z",
     "iopub.status.idle": "2023-10-04T04:16:39.747035Z",
     "shell.execute_reply": "2023-10-04T04:16:39.745457Z",
     "shell.execute_reply.started": "2023-10-04T04:16:39.631460Z"
    },
    "tags": []
   },
   "outputs": [],
   "source": []
  },
  {
   "cell_type": "code",
   "execution_count": null,
   "id": "720fbcd6-1d4b-4d4e-92fc-7df7d7c21337",
   "metadata": {
    "tags": []
   },
   "outputs": [],
   "source": []
  },
  {
   "cell_type": "code",
   "execution_count": null,
   "id": "e9c65e99-313e-40de-998c-2ba37ba5d194",
   "metadata": {
    "tags": []
   },
   "outputs": [],
   "source": []
  },
  {
   "cell_type": "code",
   "execution_count": null,
   "id": "e56f5c36-6140-4d44-9cfb-bb4dea557011",
   "metadata": {},
   "outputs": [],
   "source": []
  }
 ],
 "metadata": {
  "kernelspec": {
   "display_name": "Python 3 (ipykernel)",
   "language": "python",
   "name": "python3"
  },
  "language_info": {
   "codemirror_mode": {
    "name": "ipython",
    "version": 3
   },
   "file_extension": ".py",
   "mimetype": "text/x-python",
   "name": "python",
   "nbconvert_exporter": "python",
   "pygments_lexer": "ipython3",
   "version": "3.11.5"
  }
 },
 "nbformat": 4,
 "nbformat_minor": 5
}
