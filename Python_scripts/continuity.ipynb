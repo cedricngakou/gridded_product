{
 "cells": [
  {
   "cell_type": "code",
   "execution_count": 4,
   "id": "6ceed191-0827-4b02-9e93-30d46ad47e51",
   "metadata": {
    "execution": {
     "iopub.execute_input": "2023-10-19T08:37:12.246000Z",
     "iopub.status.busy": "2023-10-19T08:37:12.245438Z",
     "iopub.status.idle": "2023-10-19T08:37:12.251806Z",
     "shell.execute_reply": "2023-10-19T08:37:12.250543Z",
     "shell.execute_reply.started": "2023-10-19T08:37:12.245952Z"
    },
    "tags": []
   },
   "outputs": [],
   "source": [
    "#pip install pyjanitor"
   ]
  },
  {
   "cell_type": "code",
   "execution_count": 5,
   "id": "25cdaec7-3d53-45f6-8d71-6ee2ba4cde3a",
   "metadata": {
    "execution": {
     "iopub.execute_input": "2023-10-19T08:37:14.562305Z",
     "iopub.status.busy": "2023-10-19T08:37:14.561745Z",
     "iopub.status.idle": "2023-10-19T08:37:14.735608Z",
     "shell.execute_reply": "2023-10-19T08:37:14.734743Z",
     "shell.execute_reply.started": "2023-10-19T08:37:14.562255Z"
    },
    "tags": []
   },
   "outputs": [],
   "source": [
    "import pandas as pd\n",
    "import numpy as np\n",
    "import seaborn as sns\n",
    "import datetime as dt\n",
    "import matplotlib.pyplot as plt\n",
    "from matplotlib.dates import DateFormatter\n",
    "import matplotlib.dates as mdates\n",
    "from scipy.stats import shapiro\n",
    "from numpy.random import randn\n",
    "import scipy.stats as stats\n",
    "from __future__ import division\n",
    "import scipy.stats\n",
    "from datetime import datetime, timedelta\n",
    "#import plotly.figure_factory as ff\n",
    "import matplotlib, random\n",
    "import re\n",
    "import janitor"
   ]
  },
  {
   "cell_type": "markdown",
   "id": "70412fea-6bd4-4748-800a-c67f44532124",
   "metadata": {
    "tags": []
   },
   "source": [
    "### Loading the data"
   ]
  },
  {
   "cell_type": "code",
   "execution_count": 4,
   "id": "072a846a-d8c4-4b17-940b-7b56ec6c2521",
   "metadata": {
    "execution": {
     "iopub.execute_input": "2023-10-13T04:37:31.056138Z",
     "iopub.status.busy": "2023-10-13T04:37:31.055588Z",
     "iopub.status.idle": "2023-10-13T04:37:35.248300Z",
     "shell.execute_reply": "2023-10-13T04:37:35.247426Z",
     "shell.execute_reply.started": "2023-10-13T04:37:31.056093Z"
    },
    "tags": []
   },
   "outputs": [
    {
     "name": "stderr",
     "output_type": "stream",
     "text": [
      "/tmp/ipykernel_460/796669064.py:1: DtypeWarning: Columns (6,7,8,9,10,11,12,13) have mixed types. Specify dtype option on import or set low_memory=False.\n",
      "  df=pd.read_csv(\"station_db.csv\")\n"
     ]
    }
   ],
   "source": [
    "df=pd.read_csv(\"station_db.csv\")\n",
    "dregion=pd.read_csv(\"coord_region.csv\")"
   ]
  },
  {
   "cell_type": "code",
   "execution_count": 5,
   "id": "d25fe02d-2b36-4c4d-8035-6f77f95ba1bc",
   "metadata": {
    "execution": {
     "iopub.execute_input": "2023-10-13T04:37:36.276978Z",
     "iopub.status.busy": "2023-10-13T04:37:36.276447Z",
     "iopub.status.idle": "2023-10-13T04:37:36.293838Z",
     "shell.execute_reply": "2023-10-13T04:37:36.292522Z",
     "shell.execute_reply.started": "2023-10-13T04:37:36.276932Z"
    },
    "tags": []
   },
   "outputs": [
    {
     "name": "stderr",
     "output_type": "stream",
     "text": [
      "/tmp/ipykernel_460/3016797823.py:2: SettingWithCopyWarning: \n",
      "A value is trying to be set on a copy of a slice from a DataFrame\n",
      "\n",
      "See the caveats in the documentation: https://pandas.pydata.org/pandas-docs/stable/user_guide/indexing.html#returning-a-view-versus-a-copy\n",
      "  df[\"prec\"][j]=None\n"
     ]
    }
   ],
   "source": [
    "## remove negative value in precipitation\n",
    "j=df[\"prec\"]<0\n",
    "df[\"prec\"][j]=None"
   ]
  },
  {
   "cell_type": "code",
   "execution_count": 6,
   "id": "df21a799-0d6c-4c97-b3b1-6a986d5409ea",
   "metadata": {
    "execution": {
     "iopub.execute_input": "2023-10-13T04:37:40.139482Z",
     "iopub.status.busy": "2023-10-13T04:37:40.138797Z",
     "iopub.status.idle": "2023-10-13T04:37:42.446069Z",
     "shell.execute_reply": "2023-10-13T04:37:42.444525Z",
     "shell.execute_reply.started": "2023-10-13T04:37:40.139434Z"
    },
    "tags": []
   },
   "outputs": [],
   "source": [
    "## Remove special character in the data\n",
    "df[\"srad\"] = df[\"srad\"].replace(\"-\", None, regex=True)\n",
    "df[\"tmax\"] = df[\"tmax\"].replace(\"-\", None, regex=True)\n",
    "df[\"tmax\"] = df[\"tmax\"].replace(True, None, regex=True)\n",
    "df[\"tmax\"] = df[\"tmax\"].replace(\"TRUE\", None, regex=True)\n",
    "df[\"tmax\"] = df[\"tmax\"].replace('   ',\"\", regex=True)\n",
    "df[\"tmin\"] = df[\"tmin\"].replace(\"TRUE\", None, regex=True)\n",
    "df[\"tmin\"] = df[\"tmin\"].replace(\"-\", None, regex=True)\n",
    "df[\"wind\"]= df[\"wind\"].replace(\"-\", None, regex=True)\n",
    "## data type \n",
    "df[\"srad\"]=df[\"srad\"].astype(float)\n",
    "df[\"tmax\"]=df[\"tmax\"].astype(float)\n",
    "df[\"tmin\"]=df[\"tmin\"].astype(float)\n",
    "df[\"wind\"]=df[\"wind\"].astype(float)"
   ]
  },
  {
   "cell_type": "code",
   "execution_count": 7,
   "id": "e230257e-62e4-4d63-b6f1-8c5bc8fc4b09",
   "metadata": {
    "execution": {
     "iopub.execute_input": "2023-10-13T04:37:43.569397Z",
     "iopub.status.busy": "2023-10-13T04:37:43.568828Z",
     "iopub.status.idle": "2023-10-13T04:37:44.282459Z",
     "shell.execute_reply": "2023-10-13T04:37:44.281592Z",
     "shell.execute_reply.started": "2023-10-13T04:37:43.569352Z"
    },
    "tags": []
   },
   "outputs": [],
   "source": [
    "# add Region and country in the station data\n",
    "dregion=dregion[[\"name\",\"country\",\"Region\"]]\n",
    "df=df.merge(dregion,how='left', left_on='name', right_on='name')"
   ]
  },
  {
   "cell_type": "code",
   "execution_count": 4,
   "id": "b8af6582-5a57-4cd7-ac80-648b4e97b1e3",
   "metadata": {
    "execution": {
     "iopub.execute_input": "2023-10-16T04:15:19.238619Z",
     "iopub.status.busy": "2023-10-16T04:15:19.238061Z",
     "iopub.status.idle": "2023-10-16T04:15:22.872337Z",
     "shell.execute_reply": "2023-10-16T04:15:22.871527Z",
     "shell.execute_reply.started": "2023-10-16T04:15:19.238571Z"
    },
    "tags": []
   },
   "outputs": [
    {
     "name": "stderr",
     "output_type": "stream",
     "text": [
      "/tmp/ipykernel_446/3653840344.py:1: DtypeWarning: Columns (7,9,11,13,14,15) have mixed types. Specify dtype option on import or set low_memory=False.\n",
      "  df=pd.read_csv(\"df_outlier_remove.csv\")\n"
     ]
    }
   ],
   "source": [
    "df=pd.read_csv(\"df_outlier_remove.csv\")"
   ]
  },
  {
   "cell_type": "code",
   "execution_count": 5,
   "id": "b156f179-e17c-42b1-be71-060cea7580b2",
   "metadata": {
    "execution": {
     "iopub.execute_input": "2023-10-16T04:15:22.882055Z",
     "iopub.status.busy": "2023-10-16T04:15:22.881756Z",
     "iopub.status.idle": "2023-10-16T04:15:22.885285Z",
     "shell.execute_reply": "2023-10-16T04:15:22.884500Z",
     "shell.execute_reply.started": "2023-10-16T04:15:22.882038Z"
    },
    "tags": []
   },
   "outputs": [],
   "source": [
    "#dG=df[(df[\"N_Outlier \"]==0) & (df[\"Region\"]==\"South Region\")]"
   ]
  },
  {
   "cell_type": "code",
   "execution_count": 6,
   "id": "4a882a44-6fe3-4104-9dcd-597f616278aa",
   "metadata": {
    "execution": {
     "iopub.execute_input": "2023-10-16T04:15:22.886757Z",
     "iopub.status.busy": "2023-10-16T04:15:22.886506Z",
     "iopub.status.idle": "2023-10-16T04:15:22.890968Z",
     "shell.execute_reply": "2023-10-16T04:15:22.890298Z",
     "shell.execute_reply.started": "2023-10-16T04:15:22.886740Z"
    },
    "tags": []
   },
   "outputs": [],
   "source": [
    "#len(dG[\"name\"].unique())"
   ]
  },
  {
   "cell_type": "code",
   "execution_count": 7,
   "id": "3ea24037-0ac9-4e12-9ed6-4847242be013",
   "metadata": {
    "execution": {
     "iopub.execute_input": "2023-10-16T04:15:22.891836Z",
     "iopub.status.busy": "2023-10-16T04:15:22.891662Z",
     "iopub.status.idle": "2023-10-16T04:15:22.902532Z",
     "shell.execute_reply": "2023-10-16T04:15:22.901804Z",
     "shell.execute_reply.started": "2023-10-16T04:15:22.891820Z"
    },
    "tags": []
   },
   "outputs": [],
   "source": [
    "def gaps(var,data):\n",
    "    L,L1,L2,L3,L4,S=[],[],[],[],[],[]\n",
    "    data['date'] = pd.to_datetime(data['date'])\n",
    "    station_name=data[\"name\"].unique()\n",
    "    for station in station_name :\n",
    "        df=data[(data[\"name\"]==station) & (data[var].notnull())]\n",
    "        df=df.sort_values(by=\"date\")\n",
    "        df=df[df[\"date\"].notnull()]\n",
    "        dates = pd.DataFrame(pd.date_range(start=df[\"date\"].min(), end=df[\"date\"].max()), columns=['date'])\n",
    "        d1=dates.merge(df,how='left', left_on='date', right_on='date')\n",
    "        M=len(d1[d1[var].isnull()])\n",
    "        d1=d1[d1[var].notnull()]\n",
    "        start,end =df[\"date\"].min(),df[\"date\"].max()\n",
    "        dgap= d1['date'].diff()[1:]\n",
    "        gaps = dgap[dgap > timedelta(days=1)]\n",
    "        C=df[\"country\"].unique()\n",
    "        L.append(len(gaps))\n",
    "        L1.append(start)\n",
    "        L2.append(end)\n",
    "        L3.append(station)\n",
    "        L4.append(M)\n",
    "        S.append(C)\n",
    "    d=pd.DataFrame(L3,columns=[\"name\"])\n",
    "    d[\"start_date\"]=L1\n",
    "    d[\"End_date\"]=L2\n",
    "    d[\"Number_gap\"]=L\n",
    "    d[\"Number_Missing\"]=L4\n",
    "    d[\"country\"]=S\n",
    "    #d[\"class\"]=LL\n",
    "    \n",
    "    return d"
   ]
  },
  {
   "cell_type": "code",
   "execution_count": 8,
   "id": "9ec202a1-7705-4e62-9b87-3faf08d712d8",
   "metadata": {
    "execution": {
     "iopub.execute_input": "2023-10-16T04:15:24.276449Z",
     "iopub.status.busy": "2023-10-16T04:15:24.275917Z",
     "iopub.status.idle": "2023-10-16T04:15:43.208469Z",
     "shell.execute_reply": "2023-10-16T04:15:43.207115Z",
     "shell.execute_reply.started": "2023-10-16T04:15:24.276404Z"
    },
    "tags": []
   },
   "outputs": [],
   "source": [
    "## Add class for each station\n",
    "dd=gaps(\"prec\",df)\n",
    "dd[\"Class\"]= np.where(dd[\"Number_gap\"]==0,\"A\",\n",
    "                     np.where(((0<dd[\"Number_Missing\"]) & (dd[\"Number_Missing\"]<=10)) ,\"B\",\"C\"))"
   ]
  },
  {
   "cell_type": "code",
   "execution_count": 9,
   "id": "dcd22a27-d204-49a0-a2e6-2725aa98e33c",
   "metadata": {
    "execution": {
     "iopub.execute_input": "2023-10-16T04:16:10.676480Z",
     "iopub.status.busy": "2023-10-16T04:16:10.675933Z",
     "iopub.status.idle": "2023-10-16T04:16:10.685415Z",
     "shell.execute_reply": "2023-10-16T04:16:10.684441Z",
     "shell.execute_reply.started": "2023-10-16T04:16:10.676434Z"
    },
    "tags": []
   },
   "outputs": [],
   "source": []
  },
  {
   "cell_type": "code",
   "execution_count": 10,
   "id": "06005f5d-faa8-4aa4-ac1d-1a88a41bc700",
   "metadata": {
    "execution": {
     "iopub.execute_input": "2023-10-16T04:16:12.022742Z",
     "iopub.status.busy": "2023-10-16T04:16:12.022188Z",
     "iopub.status.idle": "2023-10-16T04:16:12.028199Z",
     "shell.execute_reply": "2023-10-16T04:16:12.026981Z",
     "shell.execute_reply.started": "2023-10-16T04:16:12.022699Z"
    },
    "tags": []
   },
   "outputs": [],
   "source": [
    "#dd.to_csv(\"prec_Gap_evaluation\" + \".csv\",index=False)"
   ]
  },
  {
   "cell_type": "code",
   "execution_count": 11,
   "id": "b048457c-aaa5-45f2-8a06-84ddb2449aa6",
   "metadata": {
    "execution": {
     "iopub.execute_input": "2023-10-16T04:16:12.970380Z",
     "iopub.status.busy": "2023-10-16T04:16:12.969860Z",
     "iopub.status.idle": "2023-10-16T04:16:12.981187Z",
     "shell.execute_reply": "2023-10-16T04:16:12.980307Z",
     "shell.execute_reply.started": "2023-10-16T04:16:12.970335Z"
    },
    "tags": []
   },
   "outputs": [
    {
     "data": {
      "text/plain": [
       "Class\n",
       "C    98\n",
       "A    62\n",
       "B    16\n",
       "Name: count, dtype: int64"
      ]
     },
     "execution_count": 11,
     "metadata": {},
     "output_type": "execute_result"
    }
   ],
   "source": [
    "dd[\"Class\"].value_counts()"
   ]
  },
  {
   "cell_type": "code",
   "execution_count": 12,
   "id": "d189eace-4ac5-48d6-88ed-64e32df0f4a4",
   "metadata": {
    "execution": {
     "iopub.execute_input": "2023-10-16T04:16:18.039485Z",
     "iopub.status.busy": "2023-10-16T04:16:18.038942Z",
     "iopub.status.idle": "2023-10-16T04:16:18.052385Z",
     "shell.execute_reply": "2023-10-16T04:16:18.051241Z",
     "shell.execute_reply.started": "2023-10-16T04:16:18.039440Z"
    },
    "tags": []
   },
   "outputs": [],
   "source": [
    "dG=dd[dd[\"Class\"]==\"A\"]\n",
    "dG=dG.sort_values(by=[\"start_date\",\"End_date\"]).reset_index(drop=True)"
   ]
  },
  {
   "cell_type": "code",
   "execution_count": 13,
   "id": "69f575a0-b631-4700-b10e-66318fc6ce09",
   "metadata": {
    "execution": {
     "iopub.execute_input": "2023-10-16T04:16:20.487638Z",
     "iopub.status.busy": "2023-10-16T04:16:20.487074Z",
     "iopub.status.idle": "2023-10-16T04:16:20.518482Z",
     "shell.execute_reply": "2023-10-16T04:16:20.517750Z",
     "shell.execute_reply.started": "2023-10-16T04:16:20.487594Z"
    },
    "tags": []
   },
   "outputs": [
    {
     "data": {
      "text/html": [
       "<div>\n",
       "<style scoped>\n",
       "    .dataframe tbody tr th:only-of-type {\n",
       "        vertical-align: middle;\n",
       "    }\n",
       "\n",
       "    .dataframe tbody tr th {\n",
       "        vertical-align: top;\n",
       "    }\n",
       "\n",
       "    .dataframe thead th {\n",
       "        text-align: right;\n",
       "    }\n",
       "</style>\n",
       "<table border=\"1\" class=\"dataframe\">\n",
       "  <thead>\n",
       "    <tr style=\"text-align: right;\">\n",
       "      <th></th>\n",
       "      <th>name</th>\n",
       "      <th>start_date</th>\n",
       "      <th>End_date</th>\n",
       "      <th>Number_gap</th>\n",
       "      <th>Number_Missing</th>\n",
       "      <th>country</th>\n",
       "      <th>Class</th>\n",
       "    </tr>\n",
       "  </thead>\n",
       "  <tbody>\n",
       "    <tr>\n",
       "      <th>12</th>\n",
       "      <td>TinderetTea</td>\n",
       "      <td>1950-01-01</td>\n",
       "      <td>2004-12-31</td>\n",
       "      <td>0</td>\n",
       "      <td>0</td>\n",
       "      <td>[Kenya]</td>\n",
       "      <td>A</td>\n",
       "    </tr>\n",
       "    <tr>\n",
       "      <th>13</th>\n",
       "      <td>Rusinga</td>\n",
       "      <td>1950-01-01</td>\n",
       "      <td>2004-12-31</td>\n",
       "      <td>0</td>\n",
       "      <td>0</td>\n",
       "      <td>[Kenya]</td>\n",
       "      <td>A</td>\n",
       "    </tr>\n",
       "    <tr>\n",
       "      <th>14</th>\n",
       "      <td>Muhuru</td>\n",
       "      <td>1950-01-01</td>\n",
       "      <td>2004-12-31</td>\n",
       "      <td>0</td>\n",
       "      <td>0</td>\n",
       "      <td>[Tanzania]</td>\n",
       "      <td>A</td>\n",
       "    </tr>\n",
       "    <tr>\n",
       "      <th>15</th>\n",
       "      <td>KisumuAirport</td>\n",
       "      <td>1950-01-01</td>\n",
       "      <td>2008-12-31</td>\n",
       "      <td>0</td>\n",
       "      <td>0</td>\n",
       "      <td>[Kenya]</td>\n",
       "      <td>A</td>\n",
       "    </tr>\n",
       "    <tr>\n",
       "      <th>16</th>\n",
       "      <td>Kericho</td>\n",
       "      <td>1950-01-01</td>\n",
       "      <td>2008-12-31</td>\n",
       "      <td>0</td>\n",
       "      <td>0</td>\n",
       "      <td>[Kenya]</td>\n",
       "      <td>A</td>\n",
       "    </tr>\n",
       "    <tr>\n",
       "      <th>17</th>\n",
       "      <td>Eldoret</td>\n",
       "      <td>1950-01-01</td>\n",
       "      <td>2008-12-31</td>\n",
       "      <td>0</td>\n",
       "      <td>0</td>\n",
       "      <td>[Kenya]</td>\n",
       "      <td>A</td>\n",
       "    </tr>\n",
       "    <tr>\n",
       "      <th>18</th>\n",
       "      <td>KitaleMet</td>\n",
       "      <td>1950-01-01</td>\n",
       "      <td>2009-12-31</td>\n",
       "      <td>0</td>\n",
       "      <td>0</td>\n",
       "      <td>[Kenya]</td>\n",
       "      <td>A</td>\n",
       "    </tr>\n",
       "    <tr>\n",
       "      <th>19</th>\n",
       "      <td>Alupe</td>\n",
       "      <td>1950-01-02</td>\n",
       "      <td>2004-12-31</td>\n",
       "      <td>0</td>\n",
       "      <td>0</td>\n",
       "      <td>[Kenya]</td>\n",
       "      <td>A</td>\n",
       "    </tr>\n",
       "    <tr>\n",
       "      <th>20</th>\n",
       "      <td>Bulawayo_goetz observatory</td>\n",
       "      <td>1951-07-01</td>\n",
       "      <td>2001-12-31</td>\n",
       "      <td>0</td>\n",
       "      <td>0</td>\n",
       "      <td>[Zimbabwe]</td>\n",
       "      <td>A</td>\n",
       "    </tr>\n",
       "    <tr>\n",
       "      <th>21</th>\n",
       "      <td>Masvingo</td>\n",
       "      <td>1951-07-01</td>\n",
       "      <td>2001-12-31</td>\n",
       "      <td>0</td>\n",
       "      <td>0</td>\n",
       "      <td>[nan]</td>\n",
       "      <td>A</td>\n",
       "    </tr>\n",
       "    <tr>\n",
       "      <th>22</th>\n",
       "      <td>Beitbridge</td>\n",
       "      <td>1952-03-01</td>\n",
       "      <td>2001-07-31</td>\n",
       "      <td>0</td>\n",
       "      <td>0</td>\n",
       "      <td>[Zimbabwe]</td>\n",
       "      <td>A</td>\n",
       "    </tr>\n",
       "    <tr>\n",
       "      <th>23</th>\n",
       "      <td>GilgilKwetu</td>\n",
       "      <td>1957-01-01</td>\n",
       "      <td>2010-12-31</td>\n",
       "      <td>0</td>\n",
       "      <td>0</td>\n",
       "      <td>[Kenya]</td>\n",
       "      <td>A</td>\n",
       "    </tr>\n",
       "    <tr>\n",
       "      <th>24</th>\n",
       "      <td>Gweru</td>\n",
       "      <td>1959-04-01</td>\n",
       "      <td>2001-11-30</td>\n",
       "      <td>0</td>\n",
       "      <td>0</td>\n",
       "      <td>[Zimbabwe]</td>\n",
       "      <td>A</td>\n",
       "    </tr>\n",
       "    <tr>\n",
       "      <th>25</th>\n",
       "      <td>Harare</td>\n",
       "      <td>1961-11-02</td>\n",
       "      <td>2001-01-31</td>\n",
       "      <td>0</td>\n",
       "      <td>0</td>\n",
       "      <td>[Zimbabwe]</td>\n",
       "      <td>A</td>\n",
       "    </tr>\n",
       "    <tr>\n",
       "      <th>26</th>\n",
       "      <td>Tamale</td>\n",
       "      <td>1970-01-01</td>\n",
       "      <td>2015-12-31</td>\n",
       "      <td>0</td>\n",
       "      <td>0</td>\n",
       "      <td>[Ghana]</td>\n",
       "      <td>A</td>\n",
       "    </tr>\n",
       "    <tr>\n",
       "      <th>27</th>\n",
       "      <td>Bole</td>\n",
       "      <td>1970-01-01</td>\n",
       "      <td>2016-12-31</td>\n",
       "      <td>0</td>\n",
       "      <td>0</td>\n",
       "      <td>[Ghana]</td>\n",
       "      <td>A</td>\n",
       "    </tr>\n",
       "    <tr>\n",
       "      <th>28</th>\n",
       "      <td>Chiredzi</td>\n",
       "      <td>1973-08-18</td>\n",
       "      <td>2001-04-26</td>\n",
       "      <td>0</td>\n",
       "      <td>0</td>\n",
       "      <td>[Zimbabwe]</td>\n",
       "      <td>A</td>\n",
       "    </tr>\n",
       "    <tr>\n",
       "      <th>29</th>\n",
       "      <td>KAWAMBWA</td>\n",
       "      <td>1980-01-01</td>\n",
       "      <td>1990-12-31</td>\n",
       "      <td>0</td>\n",
       "      <td>0</td>\n",
       "      <td>[Zambia]</td>\n",
       "      <td>A</td>\n",
       "    </tr>\n",
       "    <tr>\n",
       "      <th>30</th>\n",
       "      <td>Dodoma</td>\n",
       "      <td>1980-01-01</td>\n",
       "      <td>2010-12-31</td>\n",
       "      <td>0</td>\n",
       "      <td>0</td>\n",
       "      <td>[Tanzania]</td>\n",
       "      <td>A</td>\n",
       "    </tr>\n",
       "    <tr>\n",
       "      <th>31</th>\n",
       "      <td>Kigoma</td>\n",
       "      <td>1980-01-01</td>\n",
       "      <td>2010-12-31</td>\n",
       "      <td>0</td>\n",
       "      <td>0</td>\n",
       "      <td>[Tanzania]</td>\n",
       "      <td>A</td>\n",
       "    </tr>\n",
       "    <tr>\n",
       "      <th>32</th>\n",
       "      <td>Lake Manyara</td>\n",
       "      <td>1980-01-01</td>\n",
       "      <td>2010-12-31</td>\n",
       "      <td>0</td>\n",
       "      <td>0</td>\n",
       "      <td>[Tanzania]</td>\n",
       "      <td>A</td>\n",
       "    </tr>\n",
       "    <tr>\n",
       "      <th>33</th>\n",
       "      <td>Mbeya</td>\n",
       "      <td>1980-01-01</td>\n",
       "      <td>2010-12-31</td>\n",
       "      <td>0</td>\n",
       "      <td>0</td>\n",
       "      <td>[Tanzania]</td>\n",
       "      <td>A</td>\n",
       "    </tr>\n",
       "    <tr>\n",
       "      <th>34</th>\n",
       "      <td>Mtwara</td>\n",
       "      <td>1980-01-01</td>\n",
       "      <td>2010-12-31</td>\n",
       "      <td>0</td>\n",
       "      <td>0</td>\n",
       "      <td>[Tanzania]</td>\n",
       "      <td>A</td>\n",
       "    </tr>\n",
       "    <tr>\n",
       "      <th>35</th>\n",
       "      <td>Musoma</td>\n",
       "      <td>1980-01-01</td>\n",
       "      <td>2010-12-31</td>\n",
       "      <td>0</td>\n",
       "      <td>0</td>\n",
       "      <td>[Tanzania]</td>\n",
       "      <td>A</td>\n",
       "    </tr>\n",
       "    <tr>\n",
       "      <th>36</th>\n",
       "      <td>Same</td>\n",
       "      <td>1980-01-01</td>\n",
       "      <td>2010-12-31</td>\n",
       "      <td>0</td>\n",
       "      <td>0</td>\n",
       "      <td>[Tanzania]</td>\n",
       "      <td>A</td>\n",
       "    </tr>\n",
       "    <tr>\n",
       "      <th>37</th>\n",
       "      <td>Songea</td>\n",
       "      <td>1980-01-01</td>\n",
       "      <td>2010-12-31</td>\n",
       "      <td>0</td>\n",
       "      <td>0</td>\n",
       "      <td>[Tanzania]</td>\n",
       "      <td>A</td>\n",
       "    </tr>\n",
       "    <tr>\n",
       "      <th>38</th>\n",
       "      <td>Tema</td>\n",
       "      <td>1981-01-01</td>\n",
       "      <td>2015-12-31</td>\n",
       "      <td>0</td>\n",
       "      <td>0</td>\n",
       "      <td>[nan]</td>\n",
       "      <td>A</td>\n",
       "    </tr>\n",
       "    <tr>\n",
       "      <th>39</th>\n",
       "      <td>Accra.KIA</td>\n",
       "      <td>1981-01-01</td>\n",
       "      <td>2015-12-31</td>\n",
       "      <td>0</td>\n",
       "      <td>0</td>\n",
       "      <td>[Ghana]</td>\n",
       "      <td>A</td>\n",
       "    </tr>\n",
       "    <tr>\n",
       "      <th>40</th>\n",
       "      <td>Koforidua</td>\n",
       "      <td>1981-01-01</td>\n",
       "      <td>2015-12-31</td>\n",
       "      <td>0</td>\n",
       "      <td>0</td>\n",
       "      <td>[Ghana]</td>\n",
       "      <td>A</td>\n",
       "    </tr>\n",
       "    <tr>\n",
       "      <th>41</th>\n",
       "      <td>Akatsi</td>\n",
       "      <td>1981-01-01</td>\n",
       "      <td>2015-12-31</td>\n",
       "      <td>0</td>\n",
       "      <td>0</td>\n",
       "      <td>[Ghana]</td>\n",
       "      <td>A</td>\n",
       "    </tr>\n",
       "    <tr>\n",
       "      <th>42</th>\n",
       "      <td>Ho</td>\n",
       "      <td>1981-01-01</td>\n",
       "      <td>2015-12-31</td>\n",
       "      <td>0</td>\n",
       "      <td>0</td>\n",
       "      <td>[Ghana]</td>\n",
       "      <td>A</td>\n",
       "    </tr>\n",
       "    <tr>\n",
       "      <th>43</th>\n",
       "      <td>Axim</td>\n",
       "      <td>1981-01-01</td>\n",
       "      <td>2015-12-31</td>\n",
       "      <td>0</td>\n",
       "      <td>0</td>\n",
       "      <td>[Ghana]</td>\n",
       "      <td>A</td>\n",
       "    </tr>\n",
       "    <tr>\n",
       "      <th>44</th>\n",
       "      <td>Takoradi</td>\n",
       "      <td>1981-01-01</td>\n",
       "      <td>2015-12-31</td>\n",
       "      <td>0</td>\n",
       "      <td>0</td>\n",
       "      <td>[Ghana]</td>\n",
       "      <td>A</td>\n",
       "    </tr>\n",
       "    <tr>\n",
       "      <th>45</th>\n",
       "      <td>Akim.Oda</td>\n",
       "      <td>1981-01-01</td>\n",
       "      <td>2015-12-31</td>\n",
       "      <td>0</td>\n",
       "      <td>0</td>\n",
       "      <td>[Ghana]</td>\n",
       "      <td>A</td>\n",
       "    </tr>\n",
       "    <tr>\n",
       "      <th>46</th>\n",
       "      <td>Akuse</td>\n",
       "      <td>1981-01-01</td>\n",
       "      <td>2015-12-31</td>\n",
       "      <td>0</td>\n",
       "      <td>0</td>\n",
       "      <td>[Ghana]</td>\n",
       "      <td>A</td>\n",
       "    </tr>\n",
       "    <tr>\n",
       "      <th>47</th>\n",
       "      <td>Nsawam</td>\n",
       "      <td>1981-01-01</td>\n",
       "      <td>2015-12-31</td>\n",
       "      <td>0</td>\n",
       "      <td>0</td>\n",
       "      <td>[Ghana]</td>\n",
       "      <td>A</td>\n",
       "    </tr>\n",
       "    <tr>\n",
       "      <th>48</th>\n",
       "      <td>Pokuase</td>\n",
       "      <td>1981-01-01</td>\n",
       "      <td>2015-12-31</td>\n",
       "      <td>0</td>\n",
       "      <td>0</td>\n",
       "      <td>[Ghana]</td>\n",
       "      <td>A</td>\n",
       "    </tr>\n",
       "    <tr>\n",
       "      <th>49</th>\n",
       "      <td>Asamankese</td>\n",
       "      <td>1981-01-01</td>\n",
       "      <td>2015-12-31</td>\n",
       "      <td>0</td>\n",
       "      <td>0</td>\n",
       "      <td>[Ghana]</td>\n",
       "      <td>A</td>\n",
       "    </tr>\n",
       "    <tr>\n",
       "      <th>50</th>\n",
       "      <td>Begoro</td>\n",
       "      <td>1981-01-01</td>\n",
       "      <td>2015-12-31</td>\n",
       "      <td>0</td>\n",
       "      <td>0</td>\n",
       "      <td>[Ghana]</td>\n",
       "      <td>A</td>\n",
       "    </tr>\n",
       "    <tr>\n",
       "      <th>51</th>\n",
       "      <td>Kumasi</td>\n",
       "      <td>1981-01-01</td>\n",
       "      <td>2016-04-20</td>\n",
       "      <td>0</td>\n",
       "      <td>0</td>\n",
       "      <td>[Ghana]</td>\n",
       "      <td>A</td>\n",
       "    </tr>\n",
       "    <tr>\n",
       "      <th>52</th>\n",
       "      <td>NAIVASHA NANGA GERRI</td>\n",
       "      <td>1981-09-01</td>\n",
       "      <td>1981-12-31</td>\n",
       "      <td>0</td>\n",
       "      <td>0</td>\n",
       "      <td>[Kenya]</td>\n",
       "      <td>A</td>\n",
       "    </tr>\n",
       "    <tr>\n",
       "      <th>53</th>\n",
       "      <td>KijabeNvsh</td>\n",
       "      <td>1983-01-01</td>\n",
       "      <td>2010-12-31</td>\n",
       "      <td>0</td>\n",
       "      <td>0</td>\n",
       "      <td>[Kenya]</td>\n",
       "      <td>A</td>\n",
       "    </tr>\n",
       "    <tr>\n",
       "      <th>54</th>\n",
       "      <td>Bruyns Hill</td>\n",
       "      <td>1998-01-01</td>\n",
       "      <td>2018-12-31</td>\n",
       "      <td>0</td>\n",
       "      <td>0</td>\n",
       "      <td>[South Africa]</td>\n",
       "      <td>A</td>\n",
       "    </tr>\n",
       "    <tr>\n",
       "      <th>55</th>\n",
       "      <td>Serenje</td>\n",
       "      <td>2015-01-01</td>\n",
       "      <td>2018-02-13</td>\n",
       "      <td>0</td>\n",
       "      <td>0</td>\n",
       "      <td>[Zambia]</td>\n",
       "      <td>A</td>\n",
       "    </tr>\n",
       "    <tr>\n",
       "      <th>56</th>\n",
       "      <td>Nangweshi</td>\n",
       "      <td>2015-02-23</td>\n",
       "      <td>2017-11-25</td>\n",
       "      <td>0</td>\n",
       "      <td>0</td>\n",
       "      <td>[Zambia]</td>\n",
       "      <td>A</td>\n",
       "    </tr>\n",
       "    <tr>\n",
       "      <th>57</th>\n",
       "      <td>Kafue National Park-Tatayoyo</td>\n",
       "      <td>2015-04-06</td>\n",
       "      <td>2017-01-04</td>\n",
       "      <td>0</td>\n",
       "      <td>0</td>\n",
       "      <td>[Zambia]</td>\n",
       "      <td>A</td>\n",
       "    </tr>\n",
       "    <tr>\n",
       "      <th>58</th>\n",
       "      <td>Ngoma</td>\n",
       "      <td>2016-10-13</td>\n",
       "      <td>2017-07-29</td>\n",
       "      <td>0</td>\n",
       "      <td>0</td>\n",
       "      <td>[Rwanda]</td>\n",
       "      <td>A</td>\n",
       "    </tr>\n",
       "    <tr>\n",
       "      <th>59</th>\n",
       "      <td>GART</td>\n",
       "      <td>2019-10-14</td>\n",
       "      <td>2020-12-31</td>\n",
       "      <td>0</td>\n",
       "      <td>0</td>\n",
       "      <td>[Zambia]</td>\n",
       "      <td>A</td>\n",
       "    </tr>\n",
       "    <tr>\n",
       "      <th>60</th>\n",
       "      <td>Bengou Niger</td>\n",
       "      <td>2020-11-17</td>\n",
       "      <td>2022-01-31</td>\n",
       "      <td>0</td>\n",
       "      <td>0</td>\n",
       "      <td>[Niger]</td>\n",
       "      <td>A</td>\n",
       "    </tr>\n",
       "    <tr>\n",
       "      <th>61</th>\n",
       "      <td>Tarana Niger</td>\n",
       "      <td>2020-11-18</td>\n",
       "      <td>2022-03-11</td>\n",
       "      <td>0</td>\n",
       "      <td>0</td>\n",
       "      <td>[Niger]</td>\n",
       "      <td>A</td>\n",
       "    </tr>\n",
       "  </tbody>\n",
       "</table>\n",
       "</div>"
      ],
      "text/plain": [
       "                            name start_date   End_date  Number_gap  \\\n",
       "12                   TinderetTea 1950-01-01 2004-12-31           0   \n",
       "13                       Rusinga 1950-01-01 2004-12-31           0   \n",
       "14                        Muhuru 1950-01-01 2004-12-31           0   \n",
       "15                 KisumuAirport 1950-01-01 2008-12-31           0   \n",
       "16                       Kericho 1950-01-01 2008-12-31           0   \n",
       "17                       Eldoret 1950-01-01 2008-12-31           0   \n",
       "18                     KitaleMet 1950-01-01 2009-12-31           0   \n",
       "19                         Alupe 1950-01-02 2004-12-31           0   \n",
       "20    Bulawayo_goetz observatory 1951-07-01 2001-12-31           0   \n",
       "21                      Masvingo 1951-07-01 2001-12-31           0   \n",
       "22                    Beitbridge 1952-03-01 2001-07-31           0   \n",
       "23                   GilgilKwetu 1957-01-01 2010-12-31           0   \n",
       "24                         Gweru 1959-04-01 2001-11-30           0   \n",
       "25                        Harare 1961-11-02 2001-01-31           0   \n",
       "26                        Tamale 1970-01-01 2015-12-31           0   \n",
       "27                          Bole 1970-01-01 2016-12-31           0   \n",
       "28                      Chiredzi 1973-08-18 2001-04-26           0   \n",
       "29                      KAWAMBWA 1980-01-01 1990-12-31           0   \n",
       "30                        Dodoma 1980-01-01 2010-12-31           0   \n",
       "31                        Kigoma 1980-01-01 2010-12-31           0   \n",
       "32                  Lake Manyara 1980-01-01 2010-12-31           0   \n",
       "33                         Mbeya 1980-01-01 2010-12-31           0   \n",
       "34                        Mtwara 1980-01-01 2010-12-31           0   \n",
       "35                        Musoma 1980-01-01 2010-12-31           0   \n",
       "36                          Same 1980-01-01 2010-12-31           0   \n",
       "37                        Songea 1980-01-01 2010-12-31           0   \n",
       "38                          Tema 1981-01-01 2015-12-31           0   \n",
       "39                     Accra.KIA 1981-01-01 2015-12-31           0   \n",
       "40                     Koforidua 1981-01-01 2015-12-31           0   \n",
       "41                        Akatsi 1981-01-01 2015-12-31           0   \n",
       "42                            Ho 1981-01-01 2015-12-31           0   \n",
       "43                          Axim 1981-01-01 2015-12-31           0   \n",
       "44                      Takoradi 1981-01-01 2015-12-31           0   \n",
       "45                      Akim.Oda 1981-01-01 2015-12-31           0   \n",
       "46                         Akuse 1981-01-01 2015-12-31           0   \n",
       "47                        Nsawam 1981-01-01 2015-12-31           0   \n",
       "48                       Pokuase 1981-01-01 2015-12-31           0   \n",
       "49                    Asamankese 1981-01-01 2015-12-31           0   \n",
       "50                        Begoro 1981-01-01 2015-12-31           0   \n",
       "51                        Kumasi 1981-01-01 2016-04-20           0   \n",
       "52          NAIVASHA NANGA GERRI 1981-09-01 1981-12-31           0   \n",
       "53                    KijabeNvsh 1983-01-01 2010-12-31           0   \n",
       "54                   Bruyns Hill 1998-01-01 2018-12-31           0   \n",
       "55                       Serenje 2015-01-01 2018-02-13           0   \n",
       "56                     Nangweshi 2015-02-23 2017-11-25           0   \n",
       "57  Kafue National Park-Tatayoyo 2015-04-06 2017-01-04           0   \n",
       "58                         Ngoma 2016-10-13 2017-07-29           0   \n",
       "59                          GART 2019-10-14 2020-12-31           0   \n",
       "60                  Bengou Niger 2020-11-17 2022-01-31           0   \n",
       "61                  Tarana Niger 2020-11-18 2022-03-11           0   \n",
       "\n",
       "    Number_Missing         country Class  \n",
       "12               0         [Kenya]     A  \n",
       "13               0         [Kenya]     A  \n",
       "14               0      [Tanzania]     A  \n",
       "15               0         [Kenya]     A  \n",
       "16               0         [Kenya]     A  \n",
       "17               0         [Kenya]     A  \n",
       "18               0         [Kenya]     A  \n",
       "19               0         [Kenya]     A  \n",
       "20               0      [Zimbabwe]     A  \n",
       "21               0           [nan]     A  \n",
       "22               0      [Zimbabwe]     A  \n",
       "23               0         [Kenya]     A  \n",
       "24               0      [Zimbabwe]     A  \n",
       "25               0      [Zimbabwe]     A  \n",
       "26               0         [Ghana]     A  \n",
       "27               0         [Ghana]     A  \n",
       "28               0      [Zimbabwe]     A  \n",
       "29               0        [Zambia]     A  \n",
       "30               0      [Tanzania]     A  \n",
       "31               0      [Tanzania]     A  \n",
       "32               0      [Tanzania]     A  \n",
       "33               0      [Tanzania]     A  \n",
       "34               0      [Tanzania]     A  \n",
       "35               0      [Tanzania]     A  \n",
       "36               0      [Tanzania]     A  \n",
       "37               0      [Tanzania]     A  \n",
       "38               0           [nan]     A  \n",
       "39               0         [Ghana]     A  \n",
       "40               0         [Ghana]     A  \n",
       "41               0         [Ghana]     A  \n",
       "42               0         [Ghana]     A  \n",
       "43               0         [Ghana]     A  \n",
       "44               0         [Ghana]     A  \n",
       "45               0         [Ghana]     A  \n",
       "46               0         [Ghana]     A  \n",
       "47               0         [Ghana]     A  \n",
       "48               0         [Ghana]     A  \n",
       "49               0         [Ghana]     A  \n",
       "50               0         [Ghana]     A  \n",
       "51               0         [Ghana]     A  \n",
       "52               0         [Kenya]     A  \n",
       "53               0         [Kenya]     A  \n",
       "54               0  [South Africa]     A  \n",
       "55               0        [Zambia]     A  \n",
       "56               0        [Zambia]     A  \n",
       "57               0        [Zambia]     A  \n",
       "58               0        [Rwanda]     A  \n",
       "59               0        [Zambia]     A  \n",
       "60               0         [Niger]     A  \n",
       "61               0         [Niger]     A  "
      ]
     },
     "execution_count": 13,
     "metadata": {},
     "output_type": "execute_result"
    }
   ],
   "source": [
    "dG.tail(50)"
   ]
  },
  {
   "cell_type": "code",
   "execution_count": 14,
   "id": "b9ba13bf-9458-41d9-8999-01a6f246ba1a",
   "metadata": {
    "execution": {
     "iopub.execute_input": "2023-10-16T04:16:30.817786Z",
     "iopub.status.busy": "2023-10-16T04:16:30.817252Z",
     "iopub.status.idle": "2023-10-16T04:16:31.088568Z",
     "shell.execute_reply": "2023-10-16T04:16:31.087244Z",
     "shell.execute_reply.started": "2023-10-16T04:16:30.817743Z"
    },
    "tags": []
   },
   "outputs": [],
   "source": [
    "# Add class in the data\n",
    "df_prec=df[[\"name\",\"date\",\"prec\",\"Region\",\"country\"]]\n",
    "df_prec=df_prec.merge(dd[[\"name\",\"Class\"]],how='left', left_on='name', right_on='name')"
   ]
  },
  {
   "cell_type": "code",
   "execution_count": 15,
   "id": "e3627cae-367f-4ef3-8814-60ed96806ca0",
   "metadata": {
    "execution": {
     "iopub.execute_input": "2023-10-16T04:16:32.816592Z",
     "iopub.status.busy": "2023-10-16T04:16:32.816041Z",
     "iopub.status.idle": "2023-10-16T04:16:33.067750Z",
     "shell.execute_reply": "2023-10-16T04:16:33.066811Z",
     "shell.execute_reply.started": "2023-10-16T04:16:32.816546Z"
    },
    "tags": []
   },
   "outputs": [],
   "source": [
    "df_prec['date'] = pd.to_datetime(df_prec['date'])\n",
    "df_prec=df_prec.sort_values(by=\"date\")\n",
    "def extract(station,var):\n",
    "    d=df_prec[(df_prec[\"name\"]==station) & (df_prec[var].notnull())]\n",
    "    dd=d.sort_values(by=\"date\")\n",
    "    dd=dd[[\"date\",var]]\n",
    "    dd.rename(columns = {var:station},inplace = True)\n",
    "    return dd"
   ]
  },
  {
   "cell_type": "code",
   "execution_count": 17,
   "id": "c2ed28af-7666-4557-8b3d-11faee90906e",
   "metadata": {
    "execution": {
     "iopub.execute_input": "2023-10-16T04:17:04.596635Z",
     "iopub.status.busy": "2023-10-16T04:17:04.596095Z",
     "iopub.status.idle": "2023-10-16T04:17:04.636370Z",
     "shell.execute_reply": "2023-10-16T04:17:04.635248Z",
     "shell.execute_reply.started": "2023-10-16T04:17:04.596591Z"
    },
    "tags": []
   },
   "outputs": [],
   "source": [
    "# filter continu stations base on the start and end date\n",
    "df_prec1=df_prec[((df_prec[\"date\"]>=\"1998-01-01\")& (df_prec[\"date\"]<=\"2018-12-31\"))  ]\n",
    "#df_prec1=df_prec[(df_prec[\"Class\"]==\"A\") ]"
   ]
  },
  {
   "cell_type": "code",
   "execution_count": 18,
   "id": "48ea0a28-89dd-460b-8646-036efa70bcd9",
   "metadata": {
    "execution": {
     "iopub.execute_input": "2023-10-16T04:17:07.444158Z",
     "iopub.status.busy": "2023-10-16T04:17:07.443450Z",
     "iopub.status.idle": "2023-10-16T04:17:21.768361Z",
     "shell.execute_reply": "2023-10-16T04:17:21.767094Z",
     "shell.execute_reply.started": "2023-10-16T04:17:07.444113Z"
    },
    "tags": []
   },
   "outputs": [],
   "source": [
    "dates = pd.DataFrame(pd.date_range(start=df_prec1[\"date\"].min(), end=df_prec1[\"date\"].max()), columns=['date'])\n",
    "station=df_prec1[\"name\"].unique()\n",
    "d=dates[\"date\"]\n",
    "for S in station :\n",
    "    d1=extract(S,\"prec\")\n",
    "    d1.drop_duplicates(subset=\"date\",keep=\"first\", inplace=True)\n",
    "    d2=dates.merge(d1,how='left', left_on='date', right_on='date')\n",
    "    d2=d2.sort_values(by=\"date\")\n",
    "    d2=d2[[S]]\n",
    "    dd1=pd.concat([d,d2],axis=1)\n",
    "    d=dd1\n",
    "max_number_of_nas = 0\n",
    "dNNAS = dd1.loc[:, (dd1.isnull().sum(axis=0) <= max_number_of_nas)]    \n",
    "#dNNAS.to_csv(\"prec_1981_2010\" + \".csv\",index=False)"
   ]
  },
  {
   "cell_type": "code",
   "execution_count": 38,
   "id": "8e3cff02-bf88-4790-b046-98dac023c5c0",
   "metadata": {
    "execution": {
     "iopub.execute_input": "2023-10-11T07:28:28.742512Z",
     "iopub.status.busy": "2023-10-11T07:28:28.742347Z",
     "iopub.status.idle": "2023-10-11T07:28:28.745878Z",
     "shell.execute_reply": "2023-10-11T07:28:28.745187Z",
     "shell.execute_reply.started": "2023-10-11T07:28:28.742497Z"
    },
    "tags": []
   },
   "outputs": [],
   "source": [
    "#d.to_csv(\"prec_classC\" + \".csv\",index=False)"
   ]
  },
  {
   "cell_type": "code",
   "execution_count": 37,
   "id": "4f6e9bd8-ed5b-4ee3-84db-08805fab00f2",
   "metadata": {
    "execution": {
     "iopub.execute_input": "2023-10-13T08:05:14.939278Z",
     "iopub.status.busy": "2023-10-13T08:05:14.938586Z",
     "iopub.status.idle": "2023-10-13T08:05:14.947784Z",
     "shell.execute_reply": "2023-10-13T08:05:14.946852Z",
     "shell.execute_reply.started": "2023-10-13T08:05:14.939232Z"
    },
    "tags": []
   },
   "outputs": [
    {
     "data": {
      "text/plain": [
       "Index(['date', 'Bruyns Hill'], dtype='object')"
      ]
     },
     "execution_count": 37,
     "metadata": {},
     "output_type": "execute_result"
    }
   ],
   "source": [
    "dNNAS.columns"
   ]
  },
  {
   "cell_type": "code",
   "execution_count": 23,
   "id": "055cf66e-e5d1-45a2-bf75-673418157b0f",
   "metadata": {
    "execution": {
     "iopub.execute_input": "2023-10-04T14:10:38.247747Z",
     "iopub.status.busy": "2023-10-04T14:10:38.247197Z",
     "iopub.status.idle": "2023-10-04T14:10:38.253421Z",
     "shell.execute_reply": "2023-10-04T14:10:38.252018Z",
     "shell.execute_reply.started": "2023-10-04T14:10:38.247701Z"
    },
    "tags": []
   },
   "outputs": [],
   "source": [
    "#dNNAS.corr()"
   ]
  },
  {
   "cell_type": "code",
   "execution_count": 5,
   "id": "9872a12a-ed65-449b-ad05-5cbce5fce6bd",
   "metadata": {
    "execution": {
     "iopub.execute_input": "2023-12-13T13:19:50.904476Z",
     "iopub.status.busy": "2023-12-13T13:19:50.903969Z",
     "iopub.status.idle": "2023-12-13T13:19:50.909822Z",
     "shell.execute_reply": "2023-12-13T13:19:50.908726Z",
     "shell.execute_reply.started": "2023-12-13T13:19:50.904431Z"
    },
    "tags": []
   },
   "outputs": [],
   "source": [
    "# Test for seasonality\n",
    "#from pandas.plotting import autocorrelation_plot\n",
    "\n",
    "# Draw Plot\n",
    "#plt.rcParams.update({'figure.figsize':(10,6), 'figure.dpi':120})\n",
    "#autocorrelation_plot(dNNAS['Takoradi'].tolist())"
   ]
  },
  {
   "cell_type": "code",
   "execution_count": 4,
   "id": "7d379714-cfef-43f9-a7f8-8a66c60a26a7",
   "metadata": {
    "execution": {
     "iopub.execute_input": "2023-12-13T13:19:38.830755Z",
     "iopub.status.busy": "2023-12-13T13:19:38.830248Z",
     "iopub.status.idle": "2023-12-13T13:19:38.835870Z",
     "shell.execute_reply": "2023-12-13T13:19:38.834835Z",
     "shell.execute_reply.started": "2023-12-13T13:19:38.830711Z"
    },
    "tags": []
   },
   "outputs": [],
   "source": [
    "#pd.read_csv(\"coord_region.csv\")"
   ]
  },
  {
   "cell_type": "code",
   "execution_count": 3,
   "id": "6ecd9368-c192-451e-b70b-7c105e8e7d4c",
   "metadata": {
    "execution": {
     "iopub.execute_input": "2023-12-13T13:19:27.497263Z",
     "iopub.status.busy": "2023-12-13T13:19:27.496764Z",
     "iopub.status.idle": "2023-12-13T13:19:27.502547Z",
     "shell.execute_reply": "2023-12-13T13:19:27.501407Z",
     "shell.execute_reply.started": "2023-12-13T13:19:27.497219Z"
    },
    "tags": []
   },
   "outputs": [],
   "source": [
    "#pp=pd.read_csv(\"Qualitative_Tanzania.csv\")\n",
    "#pp.to_excel(\"Qulit_Tanzania.xlsx\",index=False)"
   ]
  }
 ],
 "metadata": {
  "kernelspec": {
   "display_name": "Python 3 (ipykernel)",
   "language": "python",
   "name": "python3"
  },
  "language_info": {
   "codemirror_mode": {
    "name": "ipython",
    "version": 3
   },
   "file_extension": ".py",
   "mimetype": "text/x-python",
   "name": "python",
   "nbconvert_exporter": "python",
   "pygments_lexer": "ipython3",
   "version": "3.11.5"
  }
 },
 "nbformat": 4,
 "nbformat_minor": 5
}
